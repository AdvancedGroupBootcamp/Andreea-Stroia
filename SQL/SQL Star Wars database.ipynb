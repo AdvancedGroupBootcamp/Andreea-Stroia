{
 "cells": [
  {
   "cell_type": "markdown",
   "id": "28df4065",
   "metadata": {},
   "source": [
    "# Extracting the data"
   ]
  },
  {
   "cell_type": "code",
   "execution_count": 1,
   "id": "b6cb7d0a",
   "metadata": {},
   "outputs": [],
   "source": [
    "import requests\n",
    "import json\n",
    "import pandas as pd\n",
    "import numpy as np\n",
    "from pandas import json_normalize"
   ]
  },
  {
   "cell_type": "code",
   "execution_count": 2,
   "id": "281f2af5",
   "metadata": {},
   "outputs": [],
   "source": [
    "def get_results(data, key):\n",
    "    result = []\n",
    "    current_page = data\n",
    "    has_next = True\n",
    "    \n",
    "    while(has_next):\n",
    "        for data_point in current_page['results']:\n",
    "            result.append(data_point)\n",
    "\n",
    "        if current_page['next'] == None:\n",
    "            has_next = False\n",
    "        else:\n",
    "            response = requests.get(current_page['next'])\n",
    "            current_page = response.json()\n",
    "\n",
    "    return result"
   ]
  },
  {
   "cell_type": "code",
   "execution_count": 3,
   "id": "0e1d015c",
   "metadata": {},
   "outputs": [
    {
     "name": "stdout",
     "output_type": "stream",
     "text": [
      "people done\n",
      "planets done\n",
      "films done\n",
      "species done\n",
      "vehicles done\n",
      "starships done\n"
     ]
    }
   ],
   "source": [
    "response = requests.get(\"https://swapi.dev/api/?format=json\")\n",
    "root = response.json()\n",
    "\n",
    "og_data = {}\n",
    "\n",
    "for key in root:\n",
    "    response = requests.get(root[key] + '/?format=json')\n",
    "    og_data[key] = get_results(response.json(), key)\n",
    "    print(key, 'done')"
   ]
  },
  {
   "cell_type": "code",
   "execution_count": 27,
   "id": "74f8e588",
   "metadata": {},
   "outputs": [],
   "source": [
    "df_people=pd.json_normalize(og_data['people'])"
   ]
  },
  {
   "cell_type": "code",
   "execution_count": 28,
   "id": "b22389c5",
   "metadata": {},
   "outputs": [],
   "source": [
    "df_films=json_normalize(og_data['films'])"
   ]
  },
  {
   "cell_type": "code",
   "execution_count": 44,
   "id": "66a57301",
   "metadata": {},
   "outputs": [],
   "source": [
    "df_vehicles=json_normalize(og_data['vehicles'])"
   ]
  },
  {
   "cell_type": "markdown",
   "id": "21e81e55",
   "metadata": {},
   "source": [
    "# Transform part 1"
   ]
  },
  {
   "cell_type": "markdown",
   "id": "cfff2276",
   "metadata": {},
   "source": [
    "Creating primary keys for the 3 tables"
   ]
  },
  {
   "cell_type": "code",
   "execution_count": null,
   "id": "f435b277",
   "metadata": {},
   "outputs": [],
   "source": [
    "#People dataframe"
   ]
  },
  {
   "cell_type": "code",
   "execution_count": 30,
   "id": "dcd69b2c",
   "metadata": {
    "scrolled": true
   },
   "outputs": [
    {
     "data": {
      "text/html": [
       "<div>\n",
       "<style scoped>\n",
       "    .dataframe tbody tr th:only-of-type {\n",
       "        vertical-align: middle;\n",
       "    }\n",
       "\n",
       "    .dataframe tbody tr th {\n",
       "        vertical-align: top;\n",
       "    }\n",
       "\n",
       "    .dataframe thead th {\n",
       "        text-align: right;\n",
       "    }\n",
       "</style>\n",
       "<table border=\"1\" class=\"dataframe\">\n",
       "  <thead>\n",
       "    <tr style=\"text-align: right;\">\n",
       "      <th></th>\n",
       "      <th>name</th>\n",
       "      <th>height</th>\n",
       "      <th>mass</th>\n",
       "      <th>hair_color</th>\n",
       "      <th>skin_color</th>\n",
       "      <th>eye_color</th>\n",
       "      <th>birth_year</th>\n",
       "      <th>gender</th>\n",
       "      <th>homeworld</th>\n",
       "      <th>films</th>\n",
       "      <th>species</th>\n",
       "      <th>vehicles</th>\n",
       "      <th>starships</th>\n",
       "      <th>created</th>\n",
       "      <th>edited</th>\n",
       "      <th>url</th>\n",
       "    </tr>\n",
       "  </thead>\n",
       "  <tbody>\n",
       "    <tr>\n",
       "      <th>0</th>\n",
       "      <td>Luke Skywalker</td>\n",
       "      <td>172</td>\n",
       "      <td>77</td>\n",
       "      <td>blond</td>\n",
       "      <td>fair</td>\n",
       "      <td>blue</td>\n",
       "      <td>19BBY</td>\n",
       "      <td>male</td>\n",
       "      <td>https://swapi.dev/api/planets/1/</td>\n",
       "      <td>[https://swapi.dev/api/films/1/, https://swapi...</td>\n",
       "      <td>[]</td>\n",
       "      <td>[https://swapi.dev/api/vehicles/14/, https://s...</td>\n",
       "      <td>[https://swapi.dev/api/starships/12/, https://...</td>\n",
       "      <td>2014-12-09T13:50:51.644000Z</td>\n",
       "      <td>2014-12-20T21:17:56.891000Z</td>\n",
       "      <td>https://swapi.dev/api/people/1/</td>\n",
       "    </tr>\n",
       "  </tbody>\n",
       "</table>\n",
       "</div>"
      ],
      "text/plain": [
       "             name height mass hair_color skin_color eye_color birth_year  \\\n",
       "0  Luke Skywalker    172   77      blond       fair      blue      19BBY   \n",
       "\n",
       "  gender                         homeworld  \\\n",
       "0   male  https://swapi.dev/api/planets/1/   \n",
       "\n",
       "                                               films species  \\\n",
       "0  [https://swapi.dev/api/films/1/, https://swapi...      []   \n",
       "\n",
       "                                            vehicles  \\\n",
       "0  [https://swapi.dev/api/vehicles/14/, https://s...   \n",
       "\n",
       "                                           starships  \\\n",
       "0  [https://swapi.dev/api/starships/12/, https://...   \n",
       "\n",
       "                       created                       edited  \\\n",
       "0  2014-12-09T13:50:51.644000Z  2014-12-20T21:17:56.891000Z   \n",
       "\n",
       "                               url  \n",
       "0  https://swapi.dev/api/people/1/  "
      ]
     },
     "execution_count": 30,
     "metadata": {},
     "output_type": "execute_result"
    }
   ],
   "source": [
    "df_people.head(1)"
   ]
  },
  {
   "cell_type": "code",
   "execution_count": 31,
   "id": "a3011b0b",
   "metadata": {},
   "outputs": [],
   "source": [
    "#Dropping the unnecessary columns\n",
    "df_people.drop(labels= ['homeworld', 'starships', 'species'], axis=1, inplace=True)"
   ]
  },
  {
   "cell_type": "code",
   "execution_count": 32,
   "id": "f3fbf57b",
   "metadata": {
    "scrolled": false
   },
   "outputs": [],
   "source": [
    "#Getting the primary key from URL columns\n",
    "\n",
    "df_people['id']=df_people['url'].apply(lambda x: x.split('/')[-2])"
   ]
  },
  {
   "cell_type": "code",
   "execution_count": 33,
   "id": "fd27be15",
   "metadata": {},
   "outputs": [],
   "source": [
    "column_names_people = ['id', 'name','height', 'mass', 'hair_color','skin_color', 'eye_color', 'birth_year', \n",
    "                'gender', 'films', 'vehicles', 'edited', 'created', 'url']\n",
    "\n",
    "df_people = df_people.reindex(columns=column_names_people)"
   ]
  },
  {
   "cell_type": "code",
   "execution_count": 34,
   "id": "d1406a50",
   "metadata": {
    "scrolled": false
   },
   "outputs": [],
   "source": [
    "df_people['height'] = df_people['height'].apply(lambda x: x.replace(',',''))\n",
    "df_people['mass'] = df_people['mass'].apply(lambda x: x.replace(',',''))"
   ]
  },
  {
   "cell_type": "code",
   "execution_count": 35,
   "id": "1ed4d60e",
   "metadata": {},
   "outputs": [],
   "source": [
    "#Replacing the null values\n",
    "\n",
    "df_people.replace(to_replace=[None, 'none', 'n/a', 'unknown'], value=np.nan, inplace=True)"
   ]
  },
  {
   "cell_type": "code",
   "execution_count": 36,
   "id": "c76131df",
   "metadata": {},
   "outputs": [],
   "source": [
    "convert_dict = {\n",
    "    'id': int,\n",
    "    'name':str,\n",
    "    'height':float,\n",
    "    'mass':float,\n",
    "    'hair_color':str,\n",
    "    'skin_color':str,\n",
    "    'eye_color':str,\n",
    "    'birth_year':str,\n",
    "    'gender':str,\n",
    "    'edited':str,\n",
    "    'created':str,\n",
    "    'url':str\n",
    "}\n",
    "df_people= df_people.astype(convert_dict)"
   ]
  },
  {
   "cell_type": "markdown",
   "id": "79d85c7e",
   "metadata": {},
   "source": [
    "Films dataframe"
   ]
  },
  {
   "cell_type": "code",
   "execution_count": 37,
   "id": "1f7ef9c6",
   "metadata": {},
   "outputs": [],
   "source": [
    "#Dropping the unnecessary columns\n",
    "df_films.drop(labels= ['planets', 'starships', 'species'], axis=1, inplace=True)"
   ]
  },
  {
   "cell_type": "code",
   "execution_count": 38,
   "id": "74e62330",
   "metadata": {},
   "outputs": [],
   "source": [
    "#Getting the primary key from URL columns\n",
    "\n",
    "df_films['id_films']=df_films['url'].apply(lambda x: x.split('/')[-2])"
   ]
  },
  {
   "cell_type": "code",
   "execution_count": 39,
   "id": "6f3c140b",
   "metadata": {},
   "outputs": [],
   "source": [
    "#Replacing the null values\n",
    "\n",
    "df_films.replace(to_replace=[None, 'none', 'n/a', 'unknown'], value=np.nan, inplace=True)"
   ]
  },
  {
   "cell_type": "code",
   "execution_count": 40,
   "id": "3a79d335",
   "metadata": {},
   "outputs": [
    {
     "data": {
      "text/html": [
       "<div>\n",
       "<style scoped>\n",
       "    .dataframe tbody tr th:only-of-type {\n",
       "        vertical-align: middle;\n",
       "    }\n",
       "\n",
       "    .dataframe tbody tr th {\n",
       "        vertical-align: top;\n",
       "    }\n",
       "\n",
       "    .dataframe thead th {\n",
       "        text-align: right;\n",
       "    }\n",
       "</style>\n",
       "<table border=\"1\" class=\"dataframe\">\n",
       "  <thead>\n",
       "    <tr style=\"text-align: right;\">\n",
       "      <th></th>\n",
       "      <th>title</th>\n",
       "      <th>episode_id</th>\n",
       "      <th>opening_crawl</th>\n",
       "      <th>director</th>\n",
       "      <th>producer</th>\n",
       "      <th>release_date</th>\n",
       "      <th>characters</th>\n",
       "      <th>vehicles</th>\n",
       "      <th>created</th>\n",
       "      <th>edited</th>\n",
       "      <th>url</th>\n",
       "      <th>id_films</th>\n",
       "    </tr>\n",
       "  </thead>\n",
       "  <tbody>\n",
       "    <tr>\n",
       "      <th>0</th>\n",
       "      <td>A New Hope</td>\n",
       "      <td>4</td>\n",
       "      <td>It is a period of civil war.\\r\\nRebel spaceshi...</td>\n",
       "      <td>George Lucas</td>\n",
       "      <td>Gary Kurtz, Rick McCallum</td>\n",
       "      <td>1977-05-25</td>\n",
       "      <td>[https://swapi.dev/api/people/1/, https://swap...</td>\n",
       "      <td>[https://swapi.dev/api/vehicles/4/, https://sw...</td>\n",
       "      <td>2014-12-10T14:23:31.880000Z</td>\n",
       "      <td>2014-12-20T19:49:45.256000Z</td>\n",
       "      <td>https://swapi.dev/api/films/1/</td>\n",
       "      <td>1</td>\n",
       "    </tr>\n",
       "  </tbody>\n",
       "</table>\n",
       "</div>"
      ],
      "text/plain": [
       "        title  episode_id                                      opening_crawl  \\\n",
       "0  A New Hope           4  It is a period of civil war.\\r\\nRebel spaceshi...   \n",
       "\n",
       "       director                   producer release_date  \\\n",
       "0  George Lucas  Gary Kurtz, Rick McCallum   1977-05-25   \n",
       "\n",
       "                                          characters  \\\n",
       "0  [https://swapi.dev/api/people/1/, https://swap...   \n",
       "\n",
       "                                            vehicles  \\\n",
       "0  [https://swapi.dev/api/vehicles/4/, https://sw...   \n",
       "\n",
       "                       created                       edited  \\\n",
       "0  2014-12-10T14:23:31.880000Z  2014-12-20T19:49:45.256000Z   \n",
       "\n",
       "                              url id_films  \n",
       "0  https://swapi.dev/api/films/1/        1  "
      ]
     },
     "execution_count": 40,
     "metadata": {},
     "output_type": "execute_result"
    }
   ],
   "source": [
    "df_films.head(1)"
   ]
  },
  {
   "cell_type": "markdown",
   "id": "1c1cc9b4",
   "metadata": {},
   "source": [
    "Vehicles dataframe"
   ]
  },
  {
   "cell_type": "code",
   "execution_count": 45,
   "id": "cebd71f6",
   "metadata": {
    "scrolled": true
   },
   "outputs": [
    {
     "data": {
      "text/html": [
       "<div>\n",
       "<style scoped>\n",
       "    .dataframe tbody tr th:only-of-type {\n",
       "        vertical-align: middle;\n",
       "    }\n",
       "\n",
       "    .dataframe tbody tr th {\n",
       "        vertical-align: top;\n",
       "    }\n",
       "\n",
       "    .dataframe thead th {\n",
       "        text-align: right;\n",
       "    }\n",
       "</style>\n",
       "<table border=\"1\" class=\"dataframe\">\n",
       "  <thead>\n",
       "    <tr style=\"text-align: right;\">\n",
       "      <th></th>\n",
       "      <th>name</th>\n",
       "      <th>model</th>\n",
       "      <th>manufacturer</th>\n",
       "      <th>cost_in_credits</th>\n",
       "      <th>length</th>\n",
       "      <th>max_atmosphering_speed</th>\n",
       "      <th>crew</th>\n",
       "      <th>passengers</th>\n",
       "      <th>cargo_capacity</th>\n",
       "      <th>consumables</th>\n",
       "      <th>vehicle_class</th>\n",
       "      <th>pilots</th>\n",
       "      <th>films</th>\n",
       "      <th>created</th>\n",
       "      <th>edited</th>\n",
       "      <th>url</th>\n",
       "    </tr>\n",
       "  </thead>\n",
       "  <tbody>\n",
       "    <tr>\n",
       "      <th>0</th>\n",
       "      <td>Sand Crawler</td>\n",
       "      <td>Digger Crawler</td>\n",
       "      <td>Corellia Mining Corporation</td>\n",
       "      <td>150000</td>\n",
       "      <td>36.8</td>\n",
       "      <td>30</td>\n",
       "      <td>46</td>\n",
       "      <td>30</td>\n",
       "      <td>50000</td>\n",
       "      <td>2 months</td>\n",
       "      <td>wheeled</td>\n",
       "      <td>[]</td>\n",
       "      <td>[https://swapi.dev/api/films/1/, https://swapi...</td>\n",
       "      <td>2014-12-10T15:36:25.724000Z</td>\n",
       "      <td>2014-12-20T21:30:21.661000Z</td>\n",
       "      <td>https://swapi.dev/api/vehicles/4/</td>\n",
       "    </tr>\n",
       "  </tbody>\n",
       "</table>\n",
       "</div>"
      ],
      "text/plain": [
       "           name           model                 manufacturer cost_in_credits  \\\n",
       "0  Sand Crawler  Digger Crawler  Corellia Mining Corporation          150000   \n",
       "\n",
       "  length max_atmosphering_speed crew passengers cargo_capacity consumables  \\\n",
       "0  36.8                      30   46         30          50000    2 months   \n",
       "\n",
       "  vehicle_class pilots                                              films  \\\n",
       "0       wheeled     []  [https://swapi.dev/api/films/1/, https://swapi...   \n",
       "\n",
       "                       created                       edited  \\\n",
       "0  2014-12-10T15:36:25.724000Z  2014-12-20T21:30:21.661000Z   \n",
       "\n",
       "                                 url  \n",
       "0  https://swapi.dev/api/vehicles/4/  "
      ]
     },
     "execution_count": 45,
     "metadata": {},
     "output_type": "execute_result"
    }
   ],
   "source": [
    "df_vehicles.head(1)"
   ]
  },
  {
   "cell_type": "code",
   "execution_count": 46,
   "id": "5ea4eef8",
   "metadata": {},
   "outputs": [],
   "source": [
    "#Dropping the unnecessary columns\n",
    "df_vehicles.drop(labels= ['pilots'], axis=1, inplace=True)"
   ]
  },
  {
   "cell_type": "code",
   "execution_count": 47,
   "id": "061d7a30",
   "metadata": {},
   "outputs": [],
   "source": [
    "#Getting the primary key from URL column\n",
    "\n",
    "df_vehicles['id_vehicles']=df_vehicles['url'].apply(lambda x: x.split('/')[-2])"
   ]
  },
  {
   "cell_type": "code",
   "execution_count": 48,
   "id": "6b04ba73",
   "metadata": {},
   "outputs": [],
   "source": [
    "#Replacing the null values\n",
    "\n",
    "df_vehicles.replace(to_replace=[None, 'none', 'n/a', 'unknown'], value=np.nan, inplace=True)"
   ]
  },
  {
   "cell_type": "markdown",
   "id": "ba7a3e21",
   "metadata": {},
   "source": [
    "# Transform part 2"
   ]
  },
  {
   "cell_type": "code",
   "execution_count": 49,
   "id": "7ef3ab04",
   "metadata": {},
   "outputs": [],
   "source": [
    "df_people_films = df_people[['id','films']]"
   ]
  },
  {
   "cell_type": "code",
   "execution_count": 50,
   "id": "dafd8e47",
   "metadata": {},
   "outputs": [],
   "source": [
    "df_people_films = df_people_films.explode('films')"
   ]
  },
  {
   "cell_type": "code",
   "execution_count": 51,
   "id": "cd581619",
   "metadata": {},
   "outputs": [
    {
     "data": {
      "text/html": [
       "<div>\n",
       "<style scoped>\n",
       "    .dataframe tbody tr th:only-of-type {\n",
       "        vertical-align: middle;\n",
       "    }\n",
       "\n",
       "    .dataframe tbody tr th {\n",
       "        vertical-align: top;\n",
       "    }\n",
       "\n",
       "    .dataframe thead th {\n",
       "        text-align: right;\n",
       "    }\n",
       "</style>\n",
       "<table border=\"1\" class=\"dataframe\">\n",
       "  <thead>\n",
       "    <tr style=\"text-align: right;\">\n",
       "      <th></th>\n",
       "      <th>id</th>\n",
       "      <th>films</th>\n",
       "    </tr>\n",
       "  </thead>\n",
       "  <tbody>\n",
       "    <tr>\n",
       "      <th>0</th>\n",
       "      <td>1</td>\n",
       "      <td>https://swapi.dev/api/films/1/</td>\n",
       "    </tr>\n",
       "    <tr>\n",
       "      <th>0</th>\n",
       "      <td>1</td>\n",
       "      <td>https://swapi.dev/api/films/2/</td>\n",
       "    </tr>\n",
       "    <tr>\n",
       "      <th>0</th>\n",
       "      <td>1</td>\n",
       "      <td>https://swapi.dev/api/films/3/</td>\n",
       "    </tr>\n",
       "    <tr>\n",
       "      <th>0</th>\n",
       "      <td>1</td>\n",
       "      <td>https://swapi.dev/api/films/6/</td>\n",
       "    </tr>\n",
       "    <tr>\n",
       "      <th>1</th>\n",
       "      <td>2</td>\n",
       "      <td>https://swapi.dev/api/films/1/</td>\n",
       "    </tr>\n",
       "  </tbody>\n",
       "</table>\n",
       "</div>"
      ],
      "text/plain": [
       "   id                           films\n",
       "0   1  https://swapi.dev/api/films/1/\n",
       "0   1  https://swapi.dev/api/films/2/\n",
       "0   1  https://swapi.dev/api/films/3/\n",
       "0   1  https://swapi.dev/api/films/6/\n",
       "1   2  https://swapi.dev/api/films/1/"
      ]
     },
     "execution_count": 51,
     "metadata": {},
     "output_type": "execute_result"
    }
   ],
   "source": [
    "df_people_films.head(5)"
   ]
  },
  {
   "cell_type": "code",
   "execution_count": 52,
   "id": "04f5b14f",
   "metadata": {
    "scrolled": true
   },
   "outputs": [],
   "source": [
    "df_people_films['films']=df_people_films['films'].apply(lambda x: x.split('/')[-2])"
   ]
  },
  {
   "cell_type": "code",
   "execution_count": 53,
   "id": "e775a836",
   "metadata": {},
   "outputs": [],
   "source": [
    "df_people_films.rename(columns={'films': 'id_films'}, inplace=True)"
   ]
  },
  {
   "cell_type": "code",
   "execution_count": 54,
   "id": "ecd24c4e",
   "metadata": {},
   "outputs": [
    {
     "data": {
      "text/html": [
       "<div>\n",
       "<style scoped>\n",
       "    .dataframe tbody tr th:only-of-type {\n",
       "        vertical-align: middle;\n",
       "    }\n",
       "\n",
       "    .dataframe tbody tr th {\n",
       "        vertical-align: top;\n",
       "    }\n",
       "\n",
       "    .dataframe thead th {\n",
       "        text-align: right;\n",
       "    }\n",
       "</style>\n",
       "<table border=\"1\" class=\"dataframe\">\n",
       "  <thead>\n",
       "    <tr style=\"text-align: right;\">\n",
       "      <th></th>\n",
       "      <th>id</th>\n",
       "      <th>id_films</th>\n",
       "    </tr>\n",
       "  </thead>\n",
       "  <tbody>\n",
       "    <tr>\n",
       "      <th>0</th>\n",
       "      <td>1</td>\n",
       "      <td>1</td>\n",
       "    </tr>\n",
       "    <tr>\n",
       "      <th>0</th>\n",
       "      <td>1</td>\n",
       "      <td>2</td>\n",
       "    </tr>\n",
       "    <tr>\n",
       "      <th>0</th>\n",
       "      <td>1</td>\n",
       "      <td>3</td>\n",
       "    </tr>\n",
       "    <tr>\n",
       "      <th>0</th>\n",
       "      <td>1</td>\n",
       "      <td>6</td>\n",
       "    </tr>\n",
       "    <tr>\n",
       "      <th>1</th>\n",
       "      <td>2</td>\n",
       "      <td>1</td>\n",
       "    </tr>\n",
       "  </tbody>\n",
       "</table>\n",
       "</div>"
      ],
      "text/plain": [
       "   id id_films\n",
       "0   1        1\n",
       "0   1        2\n",
       "0   1        3\n",
       "0   1        6\n",
       "1   2        1"
      ]
     },
     "execution_count": 54,
     "metadata": {},
     "output_type": "execute_result"
    }
   ],
   "source": [
    "df_people_films.head(5)"
   ]
  },
  {
   "cell_type": "code",
   "execution_count": 55,
   "id": "49e6b891",
   "metadata": {},
   "outputs": [],
   "source": [
    "df_people_vehicles=df_people [['id','vehicles']]"
   ]
  },
  {
   "cell_type": "code",
   "execution_count": 56,
   "id": "0babf02f",
   "metadata": {},
   "outputs": [],
   "source": [
    "df_people_vehicles=df_people_vehicles.explode('vehicles')"
   ]
  },
  {
   "cell_type": "code",
   "execution_count": 57,
   "id": "f90f8dbf",
   "metadata": {},
   "outputs": [
    {
     "data": {
      "text/html": [
       "<div>\n",
       "<style scoped>\n",
       "    .dataframe tbody tr th:only-of-type {\n",
       "        vertical-align: middle;\n",
       "    }\n",
       "\n",
       "    .dataframe tbody tr th {\n",
       "        vertical-align: top;\n",
       "    }\n",
       "\n",
       "    .dataframe thead th {\n",
       "        text-align: right;\n",
       "    }\n",
       "</style>\n",
       "<table border=\"1\" class=\"dataframe\">\n",
       "  <thead>\n",
       "    <tr style=\"text-align: right;\">\n",
       "      <th></th>\n",
       "      <th>id</th>\n",
       "      <th>vehicles</th>\n",
       "    </tr>\n",
       "  </thead>\n",
       "  <tbody>\n",
       "    <tr>\n",
       "      <th>0</th>\n",
       "      <td>1</td>\n",
       "      <td>https://swapi.dev/api/vehicles/14/</td>\n",
       "    </tr>\n",
       "    <tr>\n",
       "      <th>0</th>\n",
       "      <td>1</td>\n",
       "      <td>https://swapi.dev/api/vehicles/30/</td>\n",
       "    </tr>\n",
       "    <tr>\n",
       "      <th>1</th>\n",
       "      <td>2</td>\n",
       "      <td>NaN</td>\n",
       "    </tr>\n",
       "    <tr>\n",
       "      <th>2</th>\n",
       "      <td>3</td>\n",
       "      <td>NaN</td>\n",
       "    </tr>\n",
       "    <tr>\n",
       "      <th>3</th>\n",
       "      <td>4</td>\n",
       "      <td>NaN</td>\n",
       "    </tr>\n",
       "  </tbody>\n",
       "</table>\n",
       "</div>"
      ],
      "text/plain": [
       "   id                            vehicles\n",
       "0   1  https://swapi.dev/api/vehicles/14/\n",
       "0   1  https://swapi.dev/api/vehicles/30/\n",
       "1   2                                 NaN\n",
       "2   3                                 NaN\n",
       "3   4                                 NaN"
      ]
     },
     "execution_count": 57,
     "metadata": {},
     "output_type": "execute_result"
    }
   ],
   "source": [
    "df_people_vehicles.head(5)"
   ]
  },
  {
   "cell_type": "code",
   "execution_count": 58,
   "id": "50c0cc12",
   "metadata": {},
   "outputs": [],
   "source": [
    "df_people_vehicles.dropna(inplace=True)"
   ]
  },
  {
   "cell_type": "code",
   "execution_count": 59,
   "id": "a1f05918",
   "metadata": {
    "scrolled": false
   },
   "outputs": [],
   "source": [
    "df_people_vehicles['vehicles']=df_people_vehicles['vehicles'].apply(lambda x: x.split('/')[-2])"
   ]
  },
  {
   "cell_type": "code",
   "execution_count": 60,
   "id": "495dadc7",
   "metadata": {},
   "outputs": [
    {
     "data": {
      "text/html": [
       "<div>\n",
       "<style scoped>\n",
       "    .dataframe tbody tr th:only-of-type {\n",
       "        vertical-align: middle;\n",
       "    }\n",
       "\n",
       "    .dataframe tbody tr th {\n",
       "        vertical-align: top;\n",
       "    }\n",
       "\n",
       "    .dataframe thead th {\n",
       "        text-align: right;\n",
       "    }\n",
       "</style>\n",
       "<table border=\"1\" class=\"dataframe\">\n",
       "  <thead>\n",
       "    <tr style=\"text-align: right;\">\n",
       "      <th></th>\n",
       "      <th>id</th>\n",
       "      <th>vehicles</th>\n",
       "    </tr>\n",
       "  </thead>\n",
       "  <tbody>\n",
       "    <tr>\n",
       "      <th>0</th>\n",
       "      <td>1</td>\n",
       "      <td>14</td>\n",
       "    </tr>\n",
       "  </tbody>\n",
       "</table>\n",
       "</div>"
      ],
      "text/plain": [
       "   id vehicles\n",
       "0   1       14"
      ]
     },
     "execution_count": 60,
     "metadata": {},
     "output_type": "execute_result"
    }
   ],
   "source": [
    "df_people_vehicles.head(1)"
   ]
  },
  {
   "cell_type": "code",
   "execution_count": 61,
   "id": "8fe37942",
   "metadata": {},
   "outputs": [],
   "source": [
    "df_people.drop(labels= ['films', 'vehicles'], axis=1, inplace=True)"
   ]
  },
  {
   "cell_type": "code",
   "execution_count": 62,
   "id": "e2f4b227",
   "metadata": {},
   "outputs": [],
   "source": [
    "df_people.drop(columns=['edited', 'created'], axis=1, inplace=True)"
   ]
  },
  {
   "cell_type": "code",
   "execution_count": 63,
   "id": "700724f4",
   "metadata": {
    "scrolled": true
   },
   "outputs": [],
   "source": [
    "df_films_people=df_films[['id_films', 'characters']]"
   ]
  },
  {
   "cell_type": "code",
   "execution_count": 64,
   "id": "8178e266",
   "metadata": {},
   "outputs": [],
   "source": [
    "df_films_people=df_films_people.explode('characters')"
   ]
  },
  {
   "cell_type": "code",
   "execution_count": 65,
   "id": "87b22fb6",
   "metadata": {},
   "outputs": [],
   "source": [
    "df_films_people['characters']=df_films_people['characters'].apply(lambda x: x.split('/')[-2])"
   ]
  },
  {
   "cell_type": "code",
   "execution_count": 66,
   "id": "c36f2f60",
   "metadata": {},
   "outputs": [
    {
     "data": {
      "text/html": [
       "<div>\n",
       "<style scoped>\n",
       "    .dataframe tbody tr th:only-of-type {\n",
       "        vertical-align: middle;\n",
       "    }\n",
       "\n",
       "    .dataframe tbody tr th {\n",
       "        vertical-align: top;\n",
       "    }\n",
       "\n",
       "    .dataframe thead th {\n",
       "        text-align: right;\n",
       "    }\n",
       "</style>\n",
       "<table border=\"1\" class=\"dataframe\">\n",
       "  <thead>\n",
       "    <tr style=\"text-align: right;\">\n",
       "      <th></th>\n",
       "      <th>id_films</th>\n",
       "      <th>characters</th>\n",
       "    </tr>\n",
       "  </thead>\n",
       "  <tbody>\n",
       "    <tr>\n",
       "      <th>0</th>\n",
       "      <td>1</td>\n",
       "      <td>1</td>\n",
       "    </tr>\n",
       "    <tr>\n",
       "      <th>0</th>\n",
       "      <td>1</td>\n",
       "      <td>2</td>\n",
       "    </tr>\n",
       "    <tr>\n",
       "      <th>0</th>\n",
       "      <td>1</td>\n",
       "      <td>3</td>\n",
       "    </tr>\n",
       "    <tr>\n",
       "      <th>0</th>\n",
       "      <td>1</td>\n",
       "      <td>4</td>\n",
       "    </tr>\n",
       "    <tr>\n",
       "      <th>0</th>\n",
       "      <td>1</td>\n",
       "      <td>5</td>\n",
       "    </tr>\n",
       "  </tbody>\n",
       "</table>\n",
       "</div>"
      ],
      "text/plain": [
       "  id_films characters\n",
       "0        1          1\n",
       "0        1          2\n",
       "0        1          3\n",
       "0        1          4\n",
       "0        1          5"
      ]
     },
     "execution_count": 66,
     "metadata": {},
     "output_type": "execute_result"
    }
   ],
   "source": [
    "df_films_people.head(5)"
   ]
  },
  {
   "cell_type": "code",
   "execution_count": 67,
   "id": "945319fc",
   "metadata": {},
   "outputs": [],
   "source": [
    "df_films_vehicles=df_films[['id_films', 'vehicles']]"
   ]
  },
  {
   "cell_type": "code",
   "execution_count": 68,
   "id": "d308ba66",
   "metadata": {},
   "outputs": [],
   "source": [
    "df_films_vehicles=df_films_vehicles.explode('vehicles')"
   ]
  },
  {
   "cell_type": "code",
   "execution_count": 69,
   "id": "ff724876",
   "metadata": {},
   "outputs": [],
   "source": [
    "df_films_vehicles['vehicles']=df_films_vehicles['vehicles'].apply(lambda x: x.split('/')[-2])"
   ]
  },
  {
   "cell_type": "code",
   "execution_count": 70,
   "id": "48c71757",
   "metadata": {},
   "outputs": [
    {
     "data": {
      "text/html": [
       "<div>\n",
       "<style scoped>\n",
       "    .dataframe tbody tr th:only-of-type {\n",
       "        vertical-align: middle;\n",
       "    }\n",
       "\n",
       "    .dataframe tbody tr th {\n",
       "        vertical-align: top;\n",
       "    }\n",
       "\n",
       "    .dataframe thead th {\n",
       "        text-align: right;\n",
       "    }\n",
       "</style>\n",
       "<table border=\"1\" class=\"dataframe\">\n",
       "  <thead>\n",
       "    <tr style=\"text-align: right;\">\n",
       "      <th></th>\n",
       "      <th>id_films</th>\n",
       "      <th>vehicles</th>\n",
       "    </tr>\n",
       "  </thead>\n",
       "  <tbody>\n",
       "    <tr>\n",
       "      <th>0</th>\n",
       "      <td>1</td>\n",
       "      <td>4</td>\n",
       "    </tr>\n",
       "    <tr>\n",
       "      <th>0</th>\n",
       "      <td>1</td>\n",
       "      <td>6</td>\n",
       "    </tr>\n",
       "    <tr>\n",
       "      <th>0</th>\n",
       "      <td>1</td>\n",
       "      <td>7</td>\n",
       "    </tr>\n",
       "    <tr>\n",
       "      <th>0</th>\n",
       "      <td>1</td>\n",
       "      <td>8</td>\n",
       "    </tr>\n",
       "    <tr>\n",
       "      <th>1</th>\n",
       "      <td>2</td>\n",
       "      <td>8</td>\n",
       "    </tr>\n",
       "  </tbody>\n",
       "</table>\n",
       "</div>"
      ],
      "text/plain": [
       "  id_films vehicles\n",
       "0        1        4\n",
       "0        1        6\n",
       "0        1        7\n",
       "0        1        8\n",
       "1        2        8"
      ]
     },
     "execution_count": 70,
     "metadata": {},
     "output_type": "execute_result"
    }
   ],
   "source": [
    "df_films_vehicles.head(5)"
   ]
  },
  {
   "cell_type": "code",
   "execution_count": 71,
   "id": "211789dc",
   "metadata": {},
   "outputs": [],
   "source": [
    "df_films.drop(columns=['characters', 'vehicles', 'created', 'edited'], axis=1, inplace=True)"
   ]
  },
  {
   "cell_type": "code",
   "execution_count": 72,
   "id": "42be7afe",
   "metadata": {},
   "outputs": [
    {
     "data": {
      "text/html": [
       "<div>\n",
       "<style scoped>\n",
       "    .dataframe tbody tr th:only-of-type {\n",
       "        vertical-align: middle;\n",
       "    }\n",
       "\n",
       "    .dataframe tbody tr th {\n",
       "        vertical-align: top;\n",
       "    }\n",
       "\n",
       "    .dataframe thead th {\n",
       "        text-align: right;\n",
       "    }\n",
       "</style>\n",
       "<table border=\"1\" class=\"dataframe\">\n",
       "  <thead>\n",
       "    <tr style=\"text-align: right;\">\n",
       "      <th></th>\n",
       "      <th>title</th>\n",
       "      <th>episode_id</th>\n",
       "      <th>opening_crawl</th>\n",
       "      <th>director</th>\n",
       "      <th>producer</th>\n",
       "      <th>release_date</th>\n",
       "      <th>url</th>\n",
       "      <th>id_films</th>\n",
       "    </tr>\n",
       "  </thead>\n",
       "  <tbody>\n",
       "    <tr>\n",
       "      <th>0</th>\n",
       "      <td>A New Hope</td>\n",
       "      <td>4</td>\n",
       "      <td>It is a period of civil war.\\r\\nRebel spaceshi...</td>\n",
       "      <td>George Lucas</td>\n",
       "      <td>Gary Kurtz, Rick McCallum</td>\n",
       "      <td>1977-05-25</td>\n",
       "      <td>https://swapi.dev/api/films/1/</td>\n",
       "      <td>1</td>\n",
       "    </tr>\n",
       "    <tr>\n",
       "      <th>1</th>\n",
       "      <td>The Empire Strikes Back</td>\n",
       "      <td>5</td>\n",
       "      <td>It is a dark time for the\\r\\nRebellion. Althou...</td>\n",
       "      <td>Irvin Kershner</td>\n",
       "      <td>Gary Kurtz, Rick McCallum</td>\n",
       "      <td>1980-05-17</td>\n",
       "      <td>https://swapi.dev/api/films/2/</td>\n",
       "      <td>2</td>\n",
       "    </tr>\n",
       "  </tbody>\n",
       "</table>\n",
       "</div>"
      ],
      "text/plain": [
       "                     title  episode_id  \\\n",
       "0               A New Hope           4   \n",
       "1  The Empire Strikes Back           5   \n",
       "\n",
       "                                       opening_crawl        director  \\\n",
       "0  It is a period of civil war.\\r\\nRebel spaceshi...    George Lucas   \n",
       "1  It is a dark time for the\\r\\nRebellion. Althou...  Irvin Kershner   \n",
       "\n",
       "                    producer release_date                             url  \\\n",
       "0  Gary Kurtz, Rick McCallum   1977-05-25  https://swapi.dev/api/films/1/   \n",
       "1  Gary Kurtz, Rick McCallum   1980-05-17  https://swapi.dev/api/films/2/   \n",
       "\n",
       "  id_films  \n",
       "0        1  \n",
       "1        2  "
      ]
     },
     "execution_count": 72,
     "metadata": {},
     "output_type": "execute_result"
    }
   ],
   "source": [
    "df_films.head(2)"
   ]
  },
  {
   "cell_type": "code",
   "execution_count": 74,
   "id": "28d3d46e",
   "metadata": {},
   "outputs": [],
   "source": [
    "df_vehicles.drop(columns=['films', 'created', 'edited'], axis=1, inplace=True)"
   ]
  },
  {
   "cell_type": "code",
   "execution_count": 75,
   "id": "d558d77f",
   "metadata": {
    "scrolled": true
   },
   "outputs": [
    {
     "data": {
      "text/html": [
       "<div>\n",
       "<style scoped>\n",
       "    .dataframe tbody tr th:only-of-type {\n",
       "        vertical-align: middle;\n",
       "    }\n",
       "\n",
       "    .dataframe tbody tr th {\n",
       "        vertical-align: top;\n",
       "    }\n",
       "\n",
       "    .dataframe thead th {\n",
       "        text-align: right;\n",
       "    }\n",
       "</style>\n",
       "<table border=\"1\" class=\"dataframe\">\n",
       "  <thead>\n",
       "    <tr style=\"text-align: right;\">\n",
       "      <th></th>\n",
       "      <th>name</th>\n",
       "      <th>model</th>\n",
       "      <th>manufacturer</th>\n",
       "      <th>cost_in_credits</th>\n",
       "      <th>length</th>\n",
       "      <th>max_atmosphering_speed</th>\n",
       "      <th>crew</th>\n",
       "      <th>passengers</th>\n",
       "      <th>cargo_capacity</th>\n",
       "      <th>consumables</th>\n",
       "      <th>vehicle_class</th>\n",
       "      <th>url</th>\n",
       "      <th>id_vehicles</th>\n",
       "    </tr>\n",
       "  </thead>\n",
       "  <tbody>\n",
       "    <tr>\n",
       "      <th>0</th>\n",
       "      <td>Sand Crawler</td>\n",
       "      <td>Digger Crawler</td>\n",
       "      <td>Corellia Mining Corporation</td>\n",
       "      <td>150000</td>\n",
       "      <td>36.8</td>\n",
       "      <td>30</td>\n",
       "      <td>46</td>\n",
       "      <td>30</td>\n",
       "      <td>50000</td>\n",
       "      <td>2 months</td>\n",
       "      <td>wheeled</td>\n",
       "      <td>https://swapi.dev/api/vehicles/4/</td>\n",
       "      <td>4</td>\n",
       "    </tr>\n",
       "  </tbody>\n",
       "</table>\n",
       "</div>"
      ],
      "text/plain": [
       "           name           model                 manufacturer cost_in_credits  \\\n",
       "0  Sand Crawler  Digger Crawler  Corellia Mining Corporation          150000   \n",
       "\n",
       "  length max_atmosphering_speed crew passengers cargo_capacity consumables  \\\n",
       "0  36.8                      30   46         30          50000    2 months   \n",
       "\n",
       "  vehicle_class                                url id_vehicles  \n",
       "0       wheeled  https://swapi.dev/api/vehicles/4/           4  "
      ]
     },
     "execution_count": 75,
     "metadata": {},
     "output_type": "execute_result"
    }
   ],
   "source": [
    "df_vehicles.head(1)"
   ]
  },
  {
   "cell_type": "markdown",
   "id": "50717cc1",
   "metadata": {},
   "source": [
    "# Creating a SQL Database"
   ]
  },
  {
   "cell_type": "code",
   "execution_count": 76,
   "id": "997cd3b7",
   "metadata": {},
   "outputs": [],
   "source": [
    "import pandas as pd\n",
    "import numpy as np\n",
    "import sqlite3"
   ]
  },
  {
   "cell_type": "code",
   "execution_count": 77,
   "id": "c273d57a",
   "metadata": {},
   "outputs": [
    {
     "data": {
      "text/plain": [
       "49"
      ]
     },
     "execution_count": 77,
     "metadata": {},
     "output_type": "execute_result"
    }
   ],
   "source": [
    "conn = sqlite3.connect('starwars_database.db')\n",
    "c = conn.cursor()\n",
    "\n",
    "c.execute(f\"CREATE TABLE IF NOT EXISTS people ({', '.join(df_people.columns)})\")\n",
    "conn.commit()\n",
    "df_people.to_sql('people', conn, if_exists='replace', index = False)\n",
    "\n",
    "c.execute(f\"CREATE TABLE IF NOT EXISTS people_films ({', '.join(df_people_films.columns)})\")\n",
    "conn.commit()\n",
    "df_people_films.to_sql('people_films', conn, if_exists='replace', index = False)\n",
    "\n",
    "c.execute(f\"CREATE TABLE IF NOT EXISTS people_vehicles ({', '.join(df_people_films.columns)})\")\n",
    "conn.commit()\n",
    "df_people_vehicles.to_sql('people_vehicles', conn, if_exists='replace', index = False)\n",
    "\n",
    "c.execute(f\"CREATE TABLE IF NOT EXISTS films ({', '.join(df_films.columns)})\")\n",
    "conn.commit()\n",
    "df_films.to_sql('films', conn, if_exists='replace', index = False)\n",
    "\n",
    "c.execute(f\"CREATE TABLE IF NOT EXISTS vehicles ({', '.join(df_vehicles.columns)})\")\n",
    "conn.commit()\n",
    "df_vehicles.to_sql('vehicles', conn, if_exists='replace', index = False)\n",
    "\n",
    "c.execute(f\"CREATE TABLE IF NOT EXISTS films_vehicles ({', '.join(df_films_vehicles.columns)})\")\n",
    "conn.commit()\n",
    "df_films_vehicles.to_sql('films_vehicles', conn, if_exists='replace', index = False)\n"
   ]
  },
  {
   "cell_type": "markdown",
   "id": "de2a8311",
   "metadata": {},
   "source": [
    "# Analysis"
   ]
  },
  {
   "cell_type": "markdown",
   "id": "aa291f6d",
   "metadata": {},
   "source": [
    "# Select"
   ]
  },
  {
   "cell_type": "code",
   "execution_count": 78,
   "id": "b09d5485",
   "metadata": {
    "scrolled": false
   },
   "outputs": [
    {
     "data": {
      "text/html": [
       "<div>\n",
       "<style scoped>\n",
       "    .dataframe tbody tr th:only-of-type {\n",
       "        vertical-align: middle;\n",
       "    }\n",
       "\n",
       "    .dataframe tbody tr th {\n",
       "        vertical-align: top;\n",
       "    }\n",
       "\n",
       "    .dataframe thead th {\n",
       "        text-align: right;\n",
       "    }\n",
       "</style>\n",
       "<table border=\"1\" class=\"dataframe\">\n",
       "  <thead>\n",
       "    <tr style=\"text-align: right;\">\n",
       "      <th></th>\n",
       "      <th>name</th>\n",
       "      <th>model</th>\n",
       "      <th>manufacturer</th>\n",
       "      <th>cost_in_credits</th>\n",
       "      <th>length</th>\n",
       "      <th>max_atmosphering_speed</th>\n",
       "      <th>crew</th>\n",
       "      <th>passengers</th>\n",
       "      <th>cargo_capacity</th>\n",
       "      <th>consumables</th>\n",
       "      <th>vehicle_class</th>\n",
       "      <th>url</th>\n",
       "      <th>id_vehicles</th>\n",
       "    </tr>\n",
       "  </thead>\n",
       "  <tbody>\n",
       "    <tr>\n",
       "      <th>0</th>\n",
       "      <td>Sand Crawler</td>\n",
       "      <td>Digger Crawler</td>\n",
       "      <td>Corellia Mining Corporation</td>\n",
       "      <td>150000</td>\n",
       "      <td>36.8</td>\n",
       "      <td>30</td>\n",
       "      <td>46</td>\n",
       "      <td>30</td>\n",
       "      <td>50000</td>\n",
       "      <td>2 months</td>\n",
       "      <td>wheeled</td>\n",
       "      <td>https://swapi.dev/api/vehicles/4/</td>\n",
       "      <td>4</td>\n",
       "    </tr>\n",
       "    <tr>\n",
       "      <th>1</th>\n",
       "      <td>T-16 skyhopper</td>\n",
       "      <td>T-16 skyhopper</td>\n",
       "      <td>Incom Corporation</td>\n",
       "      <td>14500</td>\n",
       "      <td>10.4</td>\n",
       "      <td>1200</td>\n",
       "      <td>1</td>\n",
       "      <td>1</td>\n",
       "      <td>50</td>\n",
       "      <td>0</td>\n",
       "      <td>repulsorcraft</td>\n",
       "      <td>https://swapi.dev/api/vehicles/6/</td>\n",
       "      <td>6</td>\n",
       "    </tr>\n",
       "    <tr>\n",
       "      <th>2</th>\n",
       "      <td>X-34 landspeeder</td>\n",
       "      <td>X-34 landspeeder</td>\n",
       "      <td>SoroSuub Corporation</td>\n",
       "      <td>10550</td>\n",
       "      <td>3.4</td>\n",
       "      <td>250</td>\n",
       "      <td>1</td>\n",
       "      <td>1</td>\n",
       "      <td>5</td>\n",
       "      <td>None</td>\n",
       "      <td>repulsorcraft</td>\n",
       "      <td>https://swapi.dev/api/vehicles/7/</td>\n",
       "      <td>7</td>\n",
       "    </tr>\n",
       "    <tr>\n",
       "      <th>3</th>\n",
       "      <td>TIE/LN starfighter</td>\n",
       "      <td>Twin Ion Engine/Ln Starfighter</td>\n",
       "      <td>Sienar Fleet Systems</td>\n",
       "      <td>None</td>\n",
       "      <td>6.4</td>\n",
       "      <td>1200</td>\n",
       "      <td>1</td>\n",
       "      <td>0</td>\n",
       "      <td>65</td>\n",
       "      <td>2 days</td>\n",
       "      <td>starfighter</td>\n",
       "      <td>https://swapi.dev/api/vehicles/8/</td>\n",
       "      <td>8</td>\n",
       "    </tr>\n",
       "    <tr>\n",
       "      <th>4</th>\n",
       "      <td>Snowspeeder</td>\n",
       "      <td>t-47 airspeeder</td>\n",
       "      <td>Incom corporation</td>\n",
       "      <td>None</td>\n",
       "      <td>4.5</td>\n",
       "      <td>650</td>\n",
       "      <td>2</td>\n",
       "      <td>0</td>\n",
       "      <td>10</td>\n",
       "      <td>None</td>\n",
       "      <td>airspeeder</td>\n",
       "      <td>https://swapi.dev/api/vehicles/14/</td>\n",
       "      <td>14</td>\n",
       "    </tr>\n",
       "  </tbody>\n",
       "</table>\n",
       "</div>"
      ],
      "text/plain": [
       "                 name                           model  \\\n",
       "0        Sand Crawler                  Digger Crawler   \n",
       "1      T-16 skyhopper                  T-16 skyhopper   \n",
       "2    X-34 landspeeder                X-34 landspeeder   \n",
       "3  TIE/LN starfighter  Twin Ion Engine/Ln Starfighter   \n",
       "4         Snowspeeder                 t-47 airspeeder   \n",
       "\n",
       "                  manufacturer cost_in_credits length max_atmosphering_speed  \\\n",
       "0  Corellia Mining Corporation          150000  36.8                      30   \n",
       "1            Incom Corporation           14500  10.4                    1200   \n",
       "2         SoroSuub Corporation           10550   3.4                     250   \n",
       "3         Sienar Fleet Systems            None    6.4                   1200   \n",
       "4            Incom corporation            None    4.5                    650   \n",
       "\n",
       "  crew passengers cargo_capacity consumables  vehicle_class  \\\n",
       "0   46         30          50000    2 months        wheeled   \n",
       "1    1          1             50           0  repulsorcraft   \n",
       "2    1          1              5        None  repulsorcraft   \n",
       "3    1          0             65      2 days    starfighter   \n",
       "4    2          0             10        None     airspeeder   \n",
       "\n",
       "                                  url id_vehicles  \n",
       "0   https://swapi.dev/api/vehicles/4/           4  \n",
       "1   https://swapi.dev/api/vehicles/6/           6  \n",
       "2   https://swapi.dev/api/vehicles/7/           7  \n",
       "3   https://swapi.dev/api/vehicles/8/           8  \n",
       "4  https://swapi.dev/api/vehicles/14/          14  "
      ]
     },
     "execution_count": 78,
     "metadata": {},
     "output_type": "execute_result"
    }
   ],
   "source": [
    "pd.read_sql(\n",
    "    '''\n",
    "        SELECT \n",
    "            *\n",
    "        FROM \n",
    "            vehicles\n",
    "        LIMIT \n",
    "            5\n",
    "    ''', \n",
    "    conn\n",
    ")"
   ]
  },
  {
   "cell_type": "markdown",
   "id": "b605bfd8",
   "metadata": {},
   "source": [
    "# Inner"
   ]
  },
  {
   "cell_type": "code",
   "execution_count": 79,
   "id": "fbfcc8cf",
   "metadata": {},
   "outputs": [
    {
     "data": {
      "text/html": [
       "<div>\n",
       "<style scoped>\n",
       "    .dataframe tbody tr th:only-of-type {\n",
       "        vertical-align: middle;\n",
       "    }\n",
       "\n",
       "    .dataframe tbody tr th {\n",
       "        vertical-align: top;\n",
       "    }\n",
       "\n",
       "    .dataframe thead th {\n",
       "        text-align: right;\n",
       "    }\n",
       "</style>\n",
       "<table border=\"1\" class=\"dataframe\">\n",
       "  <thead>\n",
       "    <tr style=\"text-align: right;\">\n",
       "      <th></th>\n",
       "      <th>name</th>\n",
       "      <th>nb_vehicles</th>\n",
       "    </tr>\n",
       "  </thead>\n",
       "  <tbody>\n",
       "    <tr>\n",
       "      <th>0</th>\n",
       "      <td>Luke Skywalker</td>\n",
       "      <td>2</td>\n",
       "    </tr>\n",
       "    <tr>\n",
       "      <th>1</th>\n",
       "      <td>Anakin Skywalker</td>\n",
       "      <td>2</td>\n",
       "    </tr>\n",
       "    <tr>\n",
       "      <th>2</th>\n",
       "      <td>Leia Organa</td>\n",
       "      <td>1</td>\n",
       "    </tr>\n",
       "    <tr>\n",
       "      <th>3</th>\n",
       "      <td>Obi-Wan Kenobi</td>\n",
       "      <td>1</td>\n",
       "    </tr>\n",
       "    <tr>\n",
       "      <th>4</th>\n",
       "      <td>Chewbacca</td>\n",
       "      <td>1</td>\n",
       "    </tr>\n",
       "  </tbody>\n",
       "</table>\n",
       "</div>"
      ],
      "text/plain": [
       "               name  nb_vehicles\n",
       "0    Luke Skywalker            2\n",
       "1  Anakin Skywalker            2\n",
       "2       Leia Organa            1\n",
       "3    Obi-Wan Kenobi            1\n",
       "4         Chewbacca            1"
      ]
     },
     "execution_count": 79,
     "metadata": {},
     "output_type": "execute_result"
    }
   ],
   "source": [
    "#Get the number of vehicles the characters drove\n",
    "\n",
    "pd.read_sql(\n",
    "    '''\n",
    "        SELECT \n",
    "            p.name, \n",
    "            count(*) AS nb_vehicles\n",
    "        FROM \n",
    "            people p\n",
    "        INNER JOIN \n",
    "            people_vehicles v ON v.id = p.id\n",
    "        GROUP BY\n",
    "            p.id, p.name\n",
    "        ORDER BY \n",
    "            nb_vehicles DESC \n",
    "        LIMIT 5\n",
    "    ''', \n",
    "    conn\n",
    ")"
   ]
  },
  {
   "cell_type": "markdown",
   "id": "60075102",
   "metadata": {},
   "source": [
    "# Left Join"
   ]
  },
  {
   "cell_type": "code",
   "execution_count": 80,
   "id": "7c7ebe9d",
   "metadata": {
    "scrolled": true
   },
   "outputs": [
    {
     "data": {
      "text/html": [
       "<div>\n",
       "<style scoped>\n",
       "    .dataframe tbody tr th:only-of-type {\n",
       "        vertical-align: middle;\n",
       "    }\n",
       "\n",
       "    .dataframe tbody tr th {\n",
       "        vertical-align: top;\n",
       "    }\n",
       "\n",
       "    .dataframe thead th {\n",
       "        text-align: right;\n",
       "    }\n",
       "</style>\n",
       "<table border=\"1\" class=\"dataframe\">\n",
       "  <thead>\n",
       "    <tr style=\"text-align: right;\">\n",
       "      <th></th>\n",
       "      <th>gender</th>\n",
       "      <th>nb_ch</th>\n",
       "    </tr>\n",
       "  </thead>\n",
       "  <tbody>\n",
       "    <tr>\n",
       "      <th>0</th>\n",
       "      <td>male</td>\n",
       "      <td>113</td>\n",
       "    </tr>\n",
       "    <tr>\n",
       "      <th>1</th>\n",
       "      <td>female</td>\n",
       "      <td>32</td>\n",
       "    </tr>\n",
       "    <tr>\n",
       "      <th>2</th>\n",
       "      <td>nan</td>\n",
       "      <td>14</td>\n",
       "    </tr>\n",
       "    <tr>\n",
       "      <th>3</th>\n",
       "      <td>hermaphrodite</td>\n",
       "      <td>3</td>\n",
       "    </tr>\n",
       "  </tbody>\n",
       "</table>\n",
       "</div>"
      ],
      "text/plain": [
       "          gender  nb_ch\n",
       "0           male    113\n",
       "1         female     32\n",
       "2            nan     14\n",
       "3  hermaphrodite      3"
      ]
     },
     "execution_count": 80,
     "metadata": {},
     "output_type": "execute_result"
    }
   ],
   "source": [
    "#Get the number of characters (grouped them by gender) and the number of films they performed\n",
    "\n",
    "pd.read_sql(\n",
    "    '''\n",
    "        SELECT \n",
    "            p.gender,\n",
    "            COUNT(p.id) as nb_ch\n",
    "        FROM \n",
    "            people p\n",
    "        LEFT JOIN \n",
    "            people_films f ON f.id = p.id\n",
    "        GROUP BY \n",
    "            p.gender\n",
    "        ORDER BY \n",
    "            nb_ch DESC\n",
    "        LIMIT 5\n",
    "    ''', \n",
    "    conn\n",
    ")"
   ]
  },
  {
   "cell_type": "markdown",
   "id": "5ac07b4b",
   "metadata": {},
   "source": [
    "# Group by"
   ]
  },
  {
   "cell_type": "code",
   "execution_count": 81,
   "id": "6f0fe48d",
   "metadata": {},
   "outputs": [
    {
     "data": {
      "text/html": [
       "<div>\n",
       "<style scoped>\n",
       "    .dataframe tbody tr th:only-of-type {\n",
       "        vertical-align: middle;\n",
       "    }\n",
       "\n",
       "    .dataframe tbody tr th {\n",
       "        vertical-align: top;\n",
       "    }\n",
       "\n",
       "    .dataframe thead th {\n",
       "        text-align: right;\n",
       "    }\n",
       "</style>\n",
       "<table border=\"1\" class=\"dataframe\">\n",
       "  <thead>\n",
       "    <tr style=\"text-align: right;\">\n",
       "      <th></th>\n",
       "      <th>model</th>\n",
       "      <th>nb_vehicles</th>\n",
       "    </tr>\n",
       "  </thead>\n",
       "  <tbody>\n",
       "    <tr>\n",
       "      <th>0</th>\n",
       "      <td>Twin Ion Engine/Ln Starfighter</td>\n",
       "      <td>1</td>\n",
       "    </tr>\n",
       "    <tr>\n",
       "      <th>1</th>\n",
       "      <td>Twin Ion Engine Interceptor</td>\n",
       "      <td>1</td>\n",
       "    </tr>\n",
       "    <tr>\n",
       "      <th>2</th>\n",
       "      <td>TIE/sa bomber</td>\n",
       "      <td>1</td>\n",
       "    </tr>\n",
       "  </tbody>\n",
       "</table>\n",
       "</div>"
      ],
      "text/plain": [
       "                            model  nb_vehicles\n",
       "0  Twin Ion Engine/Ln Starfighter            1\n",
       "1     Twin Ion Engine Interceptor            1\n",
       "2                   TIE/sa bomber            1"
      ]
     },
     "execution_count": 81,
     "metadata": {},
     "output_type": "execute_result"
    }
   ],
   "source": [
    "#Get the number of vehicles that were manufactrer is Sienar Fleet Systems and group them by their model\n",
    "\n",
    "pd.read_sql(\n",
    "    '''\n",
    "        SELECT \n",
    "            model,\n",
    "            count(*) AS nb_vehicles\n",
    "        FROM \n",
    "            vehicles\n",
    "        WHERE\n",
    "            manufacturer = 'Sienar Fleet Systems'\n",
    "        GROUP BY\n",
    "            model\n",
    "        ORDER BY \n",
    "            nb_vehicles DESC\n",
    "        LIMIT 10\n",
    "    ''', \n",
    "    conn\n",
    ")"
   ]
  },
  {
   "cell_type": "markdown",
   "id": "5ce7ab73",
   "metadata": {},
   "source": [
    "# Having"
   ]
  },
  {
   "cell_type": "code",
   "execution_count": 82,
   "id": "001aa418",
   "metadata": {},
   "outputs": [
    {
     "data": {
      "text/html": [
       "<div>\n",
       "<style scoped>\n",
       "    .dataframe tbody tr th:only-of-type {\n",
       "        vertical-align: middle;\n",
       "    }\n",
       "\n",
       "    .dataframe tbody tr th {\n",
       "        vertical-align: top;\n",
       "    }\n",
       "\n",
       "    .dataframe thead th {\n",
       "        text-align: right;\n",
       "    }\n",
       "</style>\n",
       "<table border=\"1\" class=\"dataframe\">\n",
       "  <thead>\n",
       "    <tr style=\"text-align: right;\">\n",
       "      <th></th>\n",
       "      <th>director</th>\n",
       "      <th>nb_films</th>\n",
       "    </tr>\n",
       "  </thead>\n",
       "  <tbody>\n",
       "    <tr>\n",
       "      <th>0</th>\n",
       "      <td>George Lucas</td>\n",
       "      <td>3</td>\n",
       "    </tr>\n",
       "  </tbody>\n",
       "</table>\n",
       "</div>"
      ],
      "text/plain": [
       "       director  nb_films\n",
       "0  George Lucas         3"
      ]
     },
     "execution_count": 82,
     "metadata": {},
     "output_type": "execute_result"
    }
   ],
   "source": [
    "#Get the number of films which were directed by George Lucas and were released between 1999 and 2022\n",
    "\n",
    "pd.read_sql(\n",
    "    '''\n",
    "        SELECT \n",
    "            director,\n",
    "            count(*) AS nb_films\n",
    "        FROM \n",
    "            films\n",
    "        WHERE\n",
    "            release_date BETWEEN 1999-01-01 AND 2022-01-01\n",
    "        GROUP BY\n",
    "            director\n",
    "        HAVING \n",
    "            director = 'George Lucas'\n",
    "        ORDER BY \n",
    "            nb_films DESC\n",
    "        LIMIT 5\n",
    "    ''', \n",
    "    conn\n",
    ")"
   ]
  },
  {
   "cell_type": "markdown",
   "id": "65c2ebe3",
   "metadata": {},
   "source": [
    "# CTE"
   ]
  },
  {
   "cell_type": "code",
   "execution_count": 83,
   "id": "295da4d2",
   "metadata": {},
   "outputs": [
    {
     "data": {
      "text/html": [
       "<div>\n",
       "<style scoped>\n",
       "    .dataframe tbody tr th:only-of-type {\n",
       "        vertical-align: middle;\n",
       "    }\n",
       "\n",
       "    .dataframe tbody tr th {\n",
       "        vertical-align: top;\n",
       "    }\n",
       "\n",
       "    .dataframe thead th {\n",
       "        text-align: right;\n",
       "    }\n",
       "</style>\n",
       "<table border=\"1\" class=\"dataframe\">\n",
       "  <thead>\n",
       "    <tr style=\"text-align: right;\">\n",
       "      <th></th>\n",
       "      <th>model</th>\n",
       "      <th>Maximum_passengers</th>\n",
       "    </tr>\n",
       "  </thead>\n",
       "  <tbody>\n",
       "    <tr>\n",
       "      <th>0</th>\n",
       "      <td>Modified Luxury Sail Barge</td>\n",
       "      <td>500.0</td>\n",
       "    </tr>\n",
       "  </tbody>\n",
       "</table>\n",
       "</div>"
      ],
      "text/plain": [
       "                        model  Maximum_passengers\n",
       "0  Modified Luxury Sail Barge               500.0"
      ]
     },
     "execution_count": 83,
     "metadata": {},
     "output_type": "execute_result"
    }
   ],
   "source": [
    "#Get the average of the passengers for each model, \n",
    "#then select the model with the highest average of passengers \n",
    "\n",
    "pd.read_sql(\n",
    "    '''\n",
    "        WITH CTE AS (\n",
    "        SELECT \n",
    "            model, AVG(passengers) AS avg_pass\n",
    "        FROM \n",
    "            vehicles\n",
    "        GROUP BY\n",
    "            model)\n",
    "        SELECT\n",
    "            model,\n",
    "            MAX(avg_pass) AS Maximum_passengers\n",
    "        FROM\n",
    "            CTE\n",
    "    ''', \n",
    "    conn\n",
    ")"
   ]
  }
 ],
 "metadata": {
  "kernelspec": {
   "display_name": "Python 3 (ipykernel)",
   "language": "python",
   "name": "python3"
  },
  "language_info": {
   "codemirror_mode": {
    "name": "ipython",
    "version": 3
   },
   "file_extension": ".py",
   "mimetype": "text/x-python",
   "name": "python",
   "nbconvert_exporter": "python",
   "pygments_lexer": "ipython3",
   "version": "3.9.12"
  }
 },
 "nbformat": 4,
 "nbformat_minor": 5
}
