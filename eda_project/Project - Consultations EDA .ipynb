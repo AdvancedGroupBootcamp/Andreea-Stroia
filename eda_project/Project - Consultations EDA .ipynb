{
 "cells": [
  {
   "cell_type": "code",
   "execution_count": 1,
   "id": "cfcee13b",
   "metadata": {},
   "outputs": [
    {
     "data": {
      "text/html": [
       "<div>\n",
       "<style scoped>\n",
       "    .dataframe tbody tr th:only-of-type {\n",
       "        vertical-align: middle;\n",
       "    }\n",
       "\n",
       "    .dataframe tbody tr th {\n",
       "        vertical-align: top;\n",
       "    }\n",
       "\n",
       "    .dataframe thead th {\n",
       "        text-align: right;\n",
       "    }\n",
       "</style>\n",
       "<table border=\"1\" class=\"dataframe\">\n",
       "  <thead>\n",
       "    <tr style=\"text-align: right;\">\n",
       "      <th></th>\n",
       "      <th>consultation_date</th>\n",
       "      <th>physician_id</th>\n",
       "      <th>patient_id</th>\n",
       "      <th>speciality</th>\n",
       "      <th>cim10</th>\n",
       "    </tr>\n",
       "  </thead>\n",
       "  <tbody>\n",
       "    <tr>\n",
       "      <th>0</th>\n",
       "      <td>2022-04-07T09:20:00</td>\n",
       "      <td>122</td>\n",
       "      <td>0</td>\n",
       "      <td>general-practician</td>\n",
       "      <td>Grippe, à virus grippal saisonnier identifié</td>\n",
       "    </tr>\n",
       "    <tr>\n",
       "      <th>1</th>\n",
       "      <td>2021-10-01T12:00:00</td>\n",
       "      <td>56</td>\n",
       "      <td>1</td>\n",
       "      <td>general-practician</td>\n",
       "      <td>Sinusite aiguë</td>\n",
       "    </tr>\n",
       "    <tr>\n",
       "      <th>2</th>\n",
       "      <td>2022-05-04T20:40:00</td>\n",
       "      <td>89</td>\n",
       "      <td>2</td>\n",
       "      <td>general-practician</td>\n",
       "      <td>Rhinopharyngite aiguë [rhume banal]</td>\n",
       "    </tr>\n",
       "    <tr>\n",
       "      <th>3</th>\n",
       "      <td>2022-07-22T21:30:00</td>\n",
       "      <td>129</td>\n",
       "      <td>3</td>\n",
       "      <td>general-practician</td>\n",
       "      <td>Autres cystites</td>\n",
       "    </tr>\n",
       "    <tr>\n",
       "      <th>4</th>\n",
       "      <td>2021-01-06T07:10:00</td>\n",
       "      <td>31</td>\n",
       "      <td>4</td>\n",
       "      <td>general-practician</td>\n",
       "      <td>Grippe, virus non identifié</td>\n",
       "    </tr>\n",
       "    <tr>\n",
       "      <th>...</th>\n",
       "      <td>...</td>\n",
       "      <td>...</td>\n",
       "      <td>...</td>\n",
       "      <td>...</td>\n",
       "      <td>...</td>\n",
       "    </tr>\n",
       "    <tr>\n",
       "      <th>4995</th>\n",
       "      <td>2021-12-11T06:00:00</td>\n",
       "      <td>56</td>\n",
       "      <td>4688</td>\n",
       "      <td>general-practician</td>\n",
       "      <td>COVID-19</td>\n",
       "    </tr>\n",
       "    <tr>\n",
       "      <th>4996</th>\n",
       "      <td>2022-08-16T20:50:00</td>\n",
       "      <td>150</td>\n",
       "      <td>4689</td>\n",
       "      <td>general-practician</td>\n",
       "      <td>Fatigue [asthénie]</td>\n",
       "    </tr>\n",
       "    <tr>\n",
       "      <th>4997</th>\n",
       "      <td>2022-05-30T20:20:00</td>\n",
       "      <td>89</td>\n",
       "      <td>4690</td>\n",
       "      <td>general-practician</td>\n",
       "      <td>Varicelle</td>\n",
       "    </tr>\n",
       "    <tr>\n",
       "      <th>4998</th>\n",
       "      <td>2022-01-25T10:00:00</td>\n",
       "      <td>101</td>\n",
       "      <td>4691</td>\n",
       "      <td>general-practician</td>\n",
       "      <td>Gastro-entérite et colite toxiques</td>\n",
       "    </tr>\n",
       "    <tr>\n",
       "      <th>4999</th>\n",
       "      <td>2022-05-17T20:40:00</td>\n",
       "      <td>77</td>\n",
       "      <td>4692</td>\n",
       "      <td>general-practician</td>\n",
       "      <td>Affection post-COVID-19, sans précision</td>\n",
       "    </tr>\n",
       "  </tbody>\n",
       "</table>\n",
       "<p>5000 rows × 5 columns</p>\n",
       "</div>"
      ],
      "text/plain": [
       "        consultation_date  physician_id  patient_id          speciality  \\\n",
       "0     2022-04-07T09:20:00           122           0  general-practician   \n",
       "1     2021-10-01T12:00:00            56           1  general-practician   \n",
       "2     2022-05-04T20:40:00            89           2  general-practician   \n",
       "3     2022-07-22T21:30:00           129           3  general-practician   \n",
       "4     2021-01-06T07:10:00            31           4  general-practician   \n",
       "...                   ...           ...         ...                 ...   \n",
       "4995  2021-12-11T06:00:00            56        4688  general-practician   \n",
       "4996  2022-08-16T20:50:00           150        4689  general-practician   \n",
       "4997  2022-05-30T20:20:00            89        4690  general-practician   \n",
       "4998  2022-01-25T10:00:00           101        4691  general-practician   \n",
       "4999  2022-05-17T20:40:00            77        4692  general-practician   \n",
       "\n",
       "                                             cim10  \n",
       "0     Grippe, à virus grippal saisonnier identifié  \n",
       "1                                   Sinusite aiguë  \n",
       "2              Rhinopharyngite aiguë [rhume banal]  \n",
       "3                                  Autres cystites  \n",
       "4                      Grippe, virus non identifié  \n",
       "...                                            ...  \n",
       "4995                                      COVID-19  \n",
       "4996                            Fatigue [asthénie]  \n",
       "4997                                     Varicelle  \n",
       "4998            Gastro-entérite et colite toxiques  \n",
       "4999       Affection post-COVID-19, sans précision  \n",
       "\n",
       "[5000 rows x 5 columns]"
      ]
     },
     "execution_count": 1,
     "metadata": {},
     "output_type": "execute_result"
    }
   ],
   "source": [
    "#Importing data\n",
    "\n",
    "import requests\n",
    "from pandas.io.json import json_normalize\n",
    "import pandas as pd\n",
    "\n",
    "url = \"https://api-data.public-prod.qare.tech/test_data_science/\"\n",
    "df = pd.read_json(url)\n",
    "df"
   ]
  },
  {
   "cell_type": "code",
   "execution_count": 2,
   "id": "c477f9b6",
   "metadata": {},
   "outputs": [
    {
     "data": {
      "text/plain": [
       "Index(['consultation_date', 'physician_id', 'patient_id', 'speciality',\n",
       "       'cim10'],\n",
       "      dtype='object')"
      ]
     },
     "execution_count": 2,
     "metadata": {},
     "output_type": "execute_result"
    }
   ],
   "source": [
    "df.columns"
   ]
  },
  {
   "cell_type": "code",
   "execution_count": 3,
   "id": "96f9b621",
   "metadata": {},
   "outputs": [
    {
     "name": "stdout",
     "output_type": "stream",
     "text": [
      "<class 'pandas.core.frame.DataFrame'>\n",
      "RangeIndex: 5000 entries, 0 to 4999\n",
      "Data columns (total 5 columns):\n",
      " #   Column             Non-Null Count  Dtype \n",
      "---  ------             --------------  ----- \n",
      " 0   consultation_date  5000 non-null   object\n",
      " 1   physician_id       5000 non-null   int64 \n",
      " 2   patient_id         5000 non-null   int64 \n",
      " 3   speciality         5000 non-null   object\n",
      " 4   cim10              5000 non-null   object\n",
      "dtypes: int64(2), object(3)\n",
      "memory usage: 195.4+ KB\n"
     ]
    }
   ],
   "source": [
    "df.info()"
   ]
  },
  {
   "cell_type": "markdown",
   "id": "3a218d24",
   "metadata": {},
   "source": [
    "The data set gives information of the consultations in a hospital. In total there are 5000 records of the consultations.\n",
    "\n",
    "Each record of the consultation has assigned an id for the doctor, an id for the patient and the illness they suffer from. All the records have the same speciality: \"general-practician\"."
   ]
  },
  {
   "cell_type": "markdown",
   "id": "97ffefc9",
   "metadata": {},
   "source": [
    "There are no null values. "
   ]
  },
  {
   "cell_type": "code",
   "execution_count": 4,
   "id": "6163b16c",
   "metadata": {},
   "outputs": [],
   "source": [
    "import matplotlib.pyplot as plt\n",
    "import seaborn as sns"
   ]
  },
  {
   "cell_type": "code",
   "execution_count": 5,
   "id": "e3916ff3",
   "metadata": {},
   "outputs": [
    {
     "data": {
      "text/plain": [
       "<AxesSubplot:>"
      ]
     },
     "execution_count": 5,
     "metadata": {},
     "output_type": "execute_result"
    },
    {
     "data": {
      "image/png": "[encoded data removed]",
      "text/plain": [
       "<Figure size 432x288 with 1 Axes>"
      ]
     },
     "metadata": {
      "needs_background": "light"
     },
     "output_type": "display_data"
    }
   ],
   "source": [
    "sns.boxplot(data=df)"
   ]
  },
  {
   "cell_type": "markdown",
   "id": "0f010eb5",
   "metadata": {},
   "source": [
    "Although the data set contains numerical data, the boxplot doesnt show any insight about the data.\n",
    "\n",
    "The set of data does not give any insights from plots."
   ]
  },
  {
   "cell_type": "code",
   "execution_count": 6,
   "id": "36a5bce5",
   "metadata": {},
   "outputs": [
    {
     "data": {
      "text/html": [
       "<div>\n",
       "<style scoped>\n",
       "    .dataframe tbody tr th:only-of-type {\n",
       "        vertical-align: middle;\n",
       "    }\n",
       "\n",
       "    .dataframe tbody tr th {\n",
       "        vertical-align: top;\n",
       "    }\n",
       "\n",
       "    .dataframe thead th {\n",
       "        text-align: right;\n",
       "    }\n",
       "</style>\n",
       "<table border=\"1\" class=\"dataframe\">\n",
       "  <thead>\n",
       "    <tr style=\"text-align: right;\">\n",
       "      <th></th>\n",
       "      <th>physician_id</th>\n",
       "      <th>patient_id</th>\n",
       "    </tr>\n",
       "  </thead>\n",
       "  <tbody>\n",
       "    <tr>\n",
       "      <th>count</th>\n",
       "      <td>5000.000000</td>\n",
       "      <td>5000.00000</td>\n",
       "    </tr>\n",
       "    <tr>\n",
       "      <th>mean</th>\n",
       "      <td>78.413200</td>\n",
       "      <td>2345.29340</td>\n",
       "    </tr>\n",
       "    <tr>\n",
       "      <th>std</th>\n",
       "      <td>37.901195</td>\n",
       "      <td>1350.22648</td>\n",
       "    </tr>\n",
       "    <tr>\n",
       "      <th>min</th>\n",
       "      <td>0.000000</td>\n",
       "      <td>0.00000</td>\n",
       "    </tr>\n",
       "    <tr>\n",
       "      <th>25%</th>\n",
       "      <td>56.000000</td>\n",
       "      <td>1182.75000</td>\n",
       "    </tr>\n",
       "    <tr>\n",
       "      <th>50%</th>\n",
       "      <td>80.000000</td>\n",
       "      <td>2342.50000</td>\n",
       "    </tr>\n",
       "    <tr>\n",
       "      <th>75%</th>\n",
       "      <td>104.000000</td>\n",
       "      <td>3508.25000</td>\n",
       "    </tr>\n",
       "    <tr>\n",
       "      <th>max</th>\n",
       "      <td>152.000000</td>\n",
       "      <td>4692.00000</td>\n",
       "    </tr>\n",
       "  </tbody>\n",
       "</table>\n",
       "</div>"
      ],
      "text/plain": [
       "       physician_id  patient_id\n",
       "count   5000.000000  5000.00000\n",
       "mean      78.413200  2345.29340\n",
       "std       37.901195  1350.22648\n",
       "min        0.000000     0.00000\n",
       "25%       56.000000  1182.75000\n",
       "50%       80.000000  2342.50000\n",
       "75%      104.000000  3508.25000\n",
       "max      152.000000  4692.00000"
      ]
     },
     "execution_count": 6,
     "metadata": {},
     "output_type": "execute_result"
    }
   ],
   "source": [
    "df.describe()"
   ]
  },
  {
   "cell_type": "code",
   "execution_count": 7,
   "id": "74690c11",
   "metadata": {},
   "outputs": [
    {
     "data": {
      "text/plain": [
       "Gastro-entérite et colite toxiques                                          415\n",
       "Rhinopharyngite aiguë [rhume banal]                                         334\n",
       "COVID-19                                                                    322\n",
       "Autres cystites                                                             238\n",
       "Cystite aiguë                                                               200\n",
       "                                                                           ... \n",
       "Hydronéphrose avec obstruction de la jonction pyélo-urétérale                 1\n",
       "Maladies de la cavité buccale, des glandes salivaires et des maxillaires      1\n",
       "Effets indésirables des antibiotiques systémiques                             1\n",
       "Mastite (non purulente) associée à l'accouchement                             1\n",
       "Palpitations                                                                  1\n",
       "Name: cim10, Length: 533, dtype: int64"
      ]
     },
     "execution_count": 7,
     "metadata": {},
     "output_type": "execute_result"
    }
   ],
   "source": [
    "df['cim10'].value_counts()"
   ]
  },
  {
   "cell_type": "markdown",
   "id": "33332577",
   "metadata": {},
   "source": [
    "Most of the patiens suffer from Gastro-entérite et colite toxiques"
   ]
  },
  {
   "cell_type": "code",
   "execution_count": 8,
   "id": "3da6ed8d",
   "metadata": {},
   "outputs": [
    {
     "data": {
      "text/plain": [
       "56     926\n",
       "122    315\n",
       "89     244\n",
       "90     240\n",
       "97     218\n",
       "      ... \n",
       "11       1\n",
       "125      1\n",
       "18       1\n",
       "47       1\n",
       "96       1\n",
       "Name: physician_id, Length: 153, dtype: int64"
      ]
     },
     "execution_count": 8,
     "metadata": {},
     "output_type": "execute_result"
    }
   ],
   "source": [
    "df['physician_id'].value_counts()"
   ]
  },
  {
   "cell_type": "markdown",
   "id": "20c8b592",
   "metadata": {},
   "source": [
    "The physician with id 55 had the most consultations - 931."
   ]
  },
  {
   "cell_type": "code",
   "execution_count": 9,
   "id": "bcd138d4",
   "metadata": {},
   "outputs": [
    {
     "data": {
      "text/plain": [
       "663     4\n",
       "3364    4\n",
       "1634    4\n",
       "1197    3\n",
       "395     3\n",
       "       ..\n",
       "1606    1\n",
       "1607    1\n",
       "1608    1\n",
       "1609    1\n",
       "4692    1\n",
       "Name: patient_id, Length: 4693, dtype: int64"
      ]
     },
     "execution_count": 9,
     "metadata": {},
     "output_type": "execute_result"
    }
   ],
   "source": [
    "df['patient_id'].value_counts()"
   ]
  },
  {
   "cell_type": "markdown",
   "id": "6594ebca",
   "metadata": {},
   "source": [
    "The most consultations a patient has had is 4"
   ]
  },
  {
   "cell_type": "code",
   "execution_count": 10,
   "id": "0a787e06",
   "metadata": {},
   "outputs": [
    {
     "data": {
      "text/plain": [
       "2022    3272\n",
       "2021    1728\n",
       "Name: year, dtype: int64"
      ]
     },
     "execution_count": 10,
     "metadata": {},
     "output_type": "execute_result"
    }
   ],
   "source": [
    "df['year'] = pd.DatetimeIndex(df['consultation_date']).year\n",
    "df['year'].value_counts()"
   ]
  },
  {
   "cell_type": "markdown",
   "id": "53cba251",
   "metadata": {},
   "source": [
    "The data set shows information from 2022 and 2021. Most of the data is from 2022."
   ]
  },
  {
   "cell_type": "code",
   "execution_count": 11,
   "id": "c023aba9",
   "metadata": {},
   "outputs": [
    {
     "data": {
      "text/plain": [
       "8     567\n",
       "9     545\n",
       "3     519\n",
       "6     487\n",
       "7     471\n",
       "2     439\n",
       "4     409\n",
       "1     397\n",
       "5     340\n",
       "12    303\n",
       "11    293\n",
       "10    230\n",
       "Name: month, dtype: int64"
      ]
     },
     "execution_count": 11,
     "metadata": {},
     "output_type": "execute_result"
    }
   ],
   "source": [
    "df['month'] = pd.DatetimeIndex(df['consultation_date']).month\n",
    "df['month'].value_counts()"
   ]
  },
  {
   "cell_type": "markdown",
   "id": "91070b17",
   "metadata": {},
   "source": [
    "Most of the consultations were held in August."
   ]
  },
  {
   "cell_type": "code",
   "execution_count": 12,
   "id": "0dbb5c01",
   "metadata": {},
   "outputs": [
    {
     "data": {
      "text/plain": [
       "7     204\n",
       "4     187\n",
       "2     186\n",
       "16    184\n",
       "10    178\n",
       "29    176\n",
       "9     175\n",
       "8     174\n",
       "27    174\n",
       "28    173\n",
       "12    171\n",
       "20    171\n",
       "30    168\n",
       "11    165\n",
       "5     165\n",
       "14    165\n",
       "19    162\n",
       "15    161\n",
       "3     157\n",
       "21    157\n",
       "24    157\n",
       "13    156\n",
       "23    154\n",
       "6     154\n",
       "1     152\n",
       "25    150\n",
       "17    142\n",
       "18    140\n",
       "22    139\n",
       "26    130\n",
       "31     73\n",
       "Name: day, dtype: int64"
      ]
     },
     "execution_count": 12,
     "metadata": {},
     "output_type": "execute_result"
    }
   ],
   "source": [
    "df['day'] = pd.DatetimeIndex(df['consultation_date']).day\n",
    "df['day'].value_counts()"
   ]
  },
  {
   "cell_type": "code",
   "execution_count": 13,
   "id": "42170cc1",
   "metadata": {},
   "outputs": [
    {
     "data": {
      "text/plain": [
       "Monday       981\n",
       "Tuesday      830\n",
       "Thursday     740\n",
       "Friday       736\n",
       "Wednesday    716\n",
       "Saturday     581\n",
       "Sunday       416\n",
       "Name: day_week, dtype: int64"
      ]
     },
     "execution_count": 13,
     "metadata": {},
     "output_type": "execute_result"
    }
   ],
   "source": [
    "df['day_week'] = pd.DatetimeIndex(df['consultation_date']).day_name()\n",
    "df['day_week'].value_counts()"
   ]
  },
  {
   "cell_type": "markdown",
   "id": "5081686c",
   "metadata": {},
   "source": [
    "Monday was the crowdest day for consultations"
   ]
  }
 ],
 "metadata": {
  "kernelspec": {
   "display_name": "Python 3 (ipykernel)",
   "language": "python",
   "name": "python3"
  },
  "language_info": {
   "codemirror_mode": {
    "name": "ipython",
    "version": 3
   },
   "file_extension": ".py",
   "mimetype": "text/x-python",
   "name": "python",
   "nbconvert_exporter": "python",
   "pygments_lexer": "ipython3",
   "version": "3.9.12"
  }
 },
 "nbformat": 4,
 "nbformat_minor": 5
}
