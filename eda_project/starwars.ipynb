{
 "cells": [
  {
   "cell_type": "code",
   "execution_count": 60,
   "metadata": {},
   "outputs": [],
   "source": [
    "import requests\n",
    "import json"
   ]
  },
  {
   "cell_type": "code",
   "execution_count": 61,
   "metadata": {},
   "outputs": [],
   "source": [
    "def get_results(data, key):\n",
    "    result = []\n",
    "    current_page = data\n",
    "    has_next = True\n",
    "    \n",
    "    while(has_next):\n",
    "        for data_point in current_page['results']:\n",
    "            result.append(data_point)\n",
    "\n",
    "        if current_page['next'] == None:\n",
    "            has_next = False\n",
    "        else:\n",
    "            response = requests.get(current_page['next'])\n",
    "            current_page = response.json()\n",
    "\n",
    "    return result"
   ]
  },
  {
   "cell_type": "code",
   "execution_count": 62,
   "metadata": {},
   "outputs": [
    {
     "name": "stdout",
     "output_type": "stream",
     "text": [
      "people done\n",
      "planets done\n",
      "films done\n",
      "species done\n",
      "vehicles done\n",
      "starships done\n"
     ]
    }
   ],
   "source": [
    "response = requests.get(\"https://swapi.dev/api/?format=json\")\n",
    "root = response.json()\n",
    "\n",
    "og_data = {}\n",
    "\n",
    "for key in root:\n",
    "    response = requests.get(root[key] + '/?format=json')\n",
    "    og_data[key] = get_results(response.json(), key)\n",
    "    print(key, 'done')\n",
    "\n",
    "with open(\"result2.json\", \"w\") as write_file:\n",
    "    json.dump(og_data, write_file, indent=4)\n"
   ]
  },
  {
   "cell_type": "code",
   "execution_count": 63,
   "metadata": {},
   "outputs": [],
   "source": [
    "data = og_data.copy()\n",
    "\n",
    "for v in data.values():\n",
    "    for item in v:\n",
    "        for key, value in item.items():\n",
    "            original_key = key\n",
    "\n",
    "            if key == 'pilots' or key == 'characters' or key == 'residents':\n",
    "                original_key = 'people'\n",
    "\n",
    "            if type(value) == list and original_key in data.keys():\n",
    "                items = []\n",
    "                for val in value:\n",
    "                    for root_data in data[original_key]:\n",
    "                        if root_data['url'] == val:\n",
    "                            if ('name' in root_data):\n",
    "                                items.append(root_data['name'])\n",
    "                            else:\n",
    "                                items.append(root_data['title'])\n",
    "\n",
    "                            break\n",
    "                item[key] = items\n",
    "\n",
    "            if key == 'homeworld':\n",
    "                original_key = 'planets'\n",
    "                for root_data in data[original_key]:\n",
    "                    if root_data['url'] == value:\n",
    "                        item[key] = root_data['name']\n",
    "                        break\n",
    "\n",
    "\n",
    "with open(\"result.json\", \"w\") as write_file:\n",
    "    json.dump(data, write_file, indent=4)"
   ]
  }
 ],
 "metadata": {
  "kernelspec": {
   "display_name": "Python 3.8.0 64-bit ('3.8.0')",
   "language": "python",
   "name": "python3"
  },
  "language_info": {
   "codemirror_mode": {
    "name": "ipython",
    "version": 3
   },
   "file_extension": ".py",
   "mimetype": "text/x-python",
   "name": "python",
   "nbconvert_exporter": "python",
   "pygments_lexer": "ipython3",
   "version": "3.8.0"
  },
  "orig_nbformat": 4,
  "vscode": {
   "interpreter": {
    "hash": "7f98614839827e241d8769e77beb87964b7d51ca2f59aa0f2ff5b3c5a548d61a"
   }
  }
 },
 "nbformat": 4,
 "nbformat_minor": 2
}
