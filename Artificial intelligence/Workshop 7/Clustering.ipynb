{
 "cells": [
  {
   "cell_type": "code",
   "execution_count": 1,
   "id": "800bc059",
   "metadata": {},
   "outputs": [],
   "source": [
    "import pandas as pd\n",
    "import numpy as np\n",
    "import seaborn as sns\n",
    "from datetime import datetime\n",
    "import matplotlib.pyplot as plt"
   ]
  },
  {
   "cell_type": "code",
   "execution_count": 2,
   "id": "8e414848",
   "metadata": {},
   "outputs": [],
   "source": [
    "chatelet_df = pd.read_csv('chatelet.csv', sep = ';', parse_dates = True)"
   ]
  },
  {
   "cell_type": "code",
   "execution_count": 3,
   "id": "df1e4442",
   "metadata": {},
   "outputs": [
    {
     "data": {
      "text/html": [
       "<div>\n",
       "<style scoped>\n",
       "    .dataframe tbody tr th:only-of-type {\n",
       "        vertical-align: middle;\n",
       "    }\n",
       "\n",
       "    .dataframe tbody tr th {\n",
       "        vertical-align: top;\n",
       "    }\n",
       "\n",
       "    .dataframe thead th {\n",
       "        text-align: right;\n",
       "    }\n",
       "</style>\n",
       "<table border=\"1\" class=\"dataframe\">\n",
       "  <thead>\n",
       "    <tr style=\"text-align: right;\">\n",
       "      <th></th>\n",
       "      <th>DATE/HEURE</th>\n",
       "      <th>NO</th>\n",
       "      <th>NO2</th>\n",
       "      <th>PM10</th>\n",
       "      <th>CO2</th>\n",
       "      <th>TEMP</th>\n",
       "      <th>HUMI</th>\n",
       "    </tr>\n",
       "  </thead>\n",
       "  <tbody>\n",
       "    <tr>\n",
       "      <th>0</th>\n",
       "      <td>2022-10-10T02:00:00+02:00</td>\n",
       "      <td>ND</td>\n",
       "      <td>ND</td>\n",
       "      <td>43</td>\n",
       "      <td>508</td>\n",
       "      <td>18,2</td>\n",
       "      <td>49,1</td>\n",
       "    </tr>\n",
       "    <tr>\n",
       "      <th>1</th>\n",
       "      <td>2022-10-10T01:00:00+02:00</td>\n",
       "      <td>ND</td>\n",
       "      <td>ND</td>\n",
       "      <td>45</td>\n",
       "      <td>529</td>\n",
       "      <td>18,5</td>\n",
       "      <td>48,4</td>\n",
       "    </tr>\n",
       "    <tr>\n",
       "      <th>2</th>\n",
       "      <td>2022-10-10T00:00:00+02:00</td>\n",
       "      <td>ND</td>\n",
       "      <td>ND</td>\n",
       "      <td>42</td>\n",
       "      <td>547</td>\n",
       "      <td>18,8</td>\n",
       "      <td>47,1</td>\n",
       "    </tr>\n",
       "    <tr>\n",
       "      <th>3</th>\n",
       "      <td>2022-10-09T23:00:00+02:00</td>\n",
       "      <td>ND</td>\n",
       "      <td>ND</td>\n",
       "      <td>59</td>\n",
       "      <td>614</td>\n",
       "      <td>19,1</td>\n",
       "      <td>47,2</td>\n",
       "    </tr>\n",
       "    <tr>\n",
       "      <th>4</th>\n",
       "      <td>2022-10-09T22:00:00+02:00</td>\n",
       "      <td>ND</td>\n",
       "      <td>ND</td>\n",
       "      <td>65</td>\n",
       "      <td>637</td>\n",
       "      <td>19,4</td>\n",
       "      <td>46,3</td>\n",
       "    </tr>\n",
       "    <tr>\n",
       "      <th>...</th>\n",
       "      <td>...</td>\n",
       "      <td>...</td>\n",
       "      <td>...</td>\n",
       "      <td>...</td>\n",
       "      <td>...</td>\n",
       "      <td>...</td>\n",
       "      <td>...</td>\n",
       "    </tr>\n",
       "    <tr>\n",
       "      <th>85432</th>\n",
       "      <td>2013-01-01T06:00:00+01:00</td>\n",
       "      <td>4</td>\n",
       "      <td>26</td>\n",
       "      <td>102</td>\n",
       "      <td>622</td>\n",
       "      <td>21,2</td>\n",
       "      <td>45,9</td>\n",
       "    </tr>\n",
       "    <tr>\n",
       "      <th>85433</th>\n",
       "      <td>2013-01-01T05:00:00+01:00</td>\n",
       "      <td>3</td>\n",
       "      <td>25</td>\n",
       "      <td>85</td>\n",
       "      <td>715</td>\n",
       "      <td>21,6</td>\n",
       "      <td>45,8</td>\n",
       "    </tr>\n",
       "    <tr>\n",
       "      <th>85434</th>\n",
       "      <td>2013-01-01T04:00:00+01:00</td>\n",
       "      <td>4</td>\n",
       "      <td>27</td>\n",
       "      <td>124</td>\n",
       "      <td>799</td>\n",
       "      <td>21,8</td>\n",
       "      <td>47</td>\n",
       "    </tr>\n",
       "    <tr>\n",
       "      <th>85435</th>\n",
       "      <td>2013-01-01T03:00:00+01:00</td>\n",
       "      <td>6</td>\n",
       "      <td>30</td>\n",
       "      <td>166</td>\n",
       "      <td>800</td>\n",
       "      <td>21,6</td>\n",
       "      <td>47,3</td>\n",
       "    </tr>\n",
       "    <tr>\n",
       "      <th>85436</th>\n",
       "      <td>2013-01-01T02:00:00+01:00</td>\n",
       "      <td>6</td>\n",
       "      <td>31</td>\n",
       "      <td>182</td>\n",
       "      <td>776</td>\n",
       "      <td>21,5</td>\n",
       "      <td>46,2</td>\n",
       "    </tr>\n",
       "  </tbody>\n",
       "</table>\n",
       "<p>85437 rows × 7 columns</p>\n",
       "</div>"
      ],
      "text/plain": [
       "                      DATE/HEURE  NO NO2 PM10  CO2  TEMP  HUMI\n",
       "0      2022-10-10T02:00:00+02:00  ND  ND   43  508  18,2  49,1\n",
       "1      2022-10-10T01:00:00+02:00  ND  ND   45  529  18,5  48,4\n",
       "2      2022-10-10T00:00:00+02:00  ND  ND   42  547  18,8  47,1\n",
       "3      2022-10-09T23:00:00+02:00  ND  ND   59  614  19,1  47,2\n",
       "4      2022-10-09T22:00:00+02:00  ND  ND   65  637  19,4  46,3\n",
       "...                          ...  ..  ..  ...  ...   ...   ...\n",
       "85432  2013-01-01T06:00:00+01:00   4  26  102  622  21,2  45,9\n",
       "85433  2013-01-01T05:00:00+01:00   3  25   85  715  21,6  45,8\n",
       "85434  2013-01-01T04:00:00+01:00   4  27  124  799  21,8    47\n",
       "85435  2013-01-01T03:00:00+01:00   6  30  166  800  21,6  47,3\n",
       "85436  2013-01-01T02:00:00+01:00   6  31  182  776  21,5  46,2\n",
       "\n",
       "[85437 rows x 7 columns]"
      ]
     },
     "execution_count": 3,
     "metadata": {},
     "output_type": "execute_result"
    }
   ],
   "source": [
    "chatelet_df"
   ]
  },
  {
   "cell_type": "markdown",
   "id": "70badabb",
   "metadata": {},
   "source": [
    "# Data Cleaning"
   ]
  },
  {
   "cell_type": "code",
   "execution_count": 4,
   "id": "6ce7e0c4",
   "metadata": {},
   "outputs": [],
   "source": [
    "chatelet_df.set_index('DATE/HEURE', inplace = True)"
   ]
  },
  {
   "cell_type": "code",
   "execution_count": 5,
   "id": "c0f82354",
   "metadata": {},
   "outputs": [],
   "source": [
    "chatelet_df = chatelet_df.apply(lambda x: x.replace('ND',np.NaN))"
   ]
  },
  {
   "cell_type": "code",
   "execution_count": 6,
   "id": "bef44288",
   "metadata": {},
   "outputs": [
    {
     "data": {
      "text/plain": [
       "NO      28296\n",
       "NO2     19504\n",
       "PM10    15330\n",
       "CO2     15722\n",
       "TEMP    10712\n",
       "HUMI    10711\n",
       "dtype: int64"
      ]
     },
     "execution_count": 6,
     "metadata": {},
     "output_type": "execute_result"
    }
   ],
   "source": [
    "chatelet_df.isna().sum()"
   ]
  },
  {
   "cell_type": "code",
   "execution_count": 7,
   "id": "cc37c372",
   "metadata": {},
   "outputs": [
    {
     "data": {
      "text/plain": [
       "<AxesSubplot:ylabel='DATE/HEURE'>"
      ]
     },
     "execution_count": 7,
     "metadata": {},
     "output_type": "execute_result"
    },
    {
     "data": {
      "image/png": "[encoded data removed]",
      "text/plain": [
       "<Figure size 432x288 with 1 Axes>"
      ]
     },
     "metadata": {
      "needs_background": "light"
     },
     "output_type": "display_data"
    }
   ],
   "source": [
    "sns.heatmap(chatelet_df.isnull(),yticklabels=False,cbar=False,cmap='viridis')"
   ]
  },
  {
   "cell_type": "code",
   "execution_count": 8,
   "id": "fafb1347",
   "metadata": {},
   "outputs": [],
   "source": [
    "chatelet_df.dropna(axis = 0, how = 'all', inplace = True)"
   ]
  },
  {
   "cell_type": "code",
   "execution_count": 9,
   "id": "8222782d",
   "metadata": {},
   "outputs": [
    {
     "data": {
      "text/plain": [
       "<AxesSubplot:ylabel='DATE/HEURE'>"
      ]
     },
     "execution_count": 9,
     "metadata": {},
     "output_type": "execute_result"
    },
    {
     "data": {
      "image/png": "[encoded data removed]",
      "text/plain": [
       "<Figure size 432x288 with 1 Axes>"
      ]
     },
     "metadata": {
      "needs_background": "light"
     },
     "output_type": "display_data"
    }
   ],
   "source": [
    "sns.heatmap(chatelet_df.isnull(),yticklabels=False,cbar=False,cmap='viridis')"
   ]
  },
  {
   "cell_type": "code",
   "execution_count": 10,
   "id": "b03a5285",
   "metadata": {},
   "outputs": [],
   "source": [
    "chatelet_df.fillna(method = 'bfill', inplace = True)"
   ]
  },
  {
   "cell_type": "code",
   "execution_count": 11,
   "id": "6f993afd",
   "metadata": {},
   "outputs": [
    {
     "data": {
      "text/plain": [
       "<AxesSubplot:ylabel='DATE/HEURE'>"
      ]
     },
     "execution_count": 11,
     "metadata": {},
     "output_type": "execute_result"
    },
    {
     "data": {
      "image/png": "[encoded data removed]",
      "text/plain": [
       "<Figure size 432x288 with 1 Axes>"
      ]
     },
     "metadata": {
      "needs_background": "light"
     },
     "output_type": "display_data"
    }
   ],
   "source": [
    "sns.heatmap(chatelet_df.isnull(),yticklabels=False,cbar=False,cmap='viridis')"
   ]
  },
  {
   "cell_type": "code",
   "execution_count": 12,
   "id": "1be6bad8",
   "metadata": {},
   "outputs": [
    {
     "data": {
      "text/plain": [
       "NO      object\n",
       "NO2     object\n",
       "PM10    object\n",
       "CO2     object\n",
       "TEMP    object\n",
       "HUMI    object\n",
       "dtype: object"
      ]
     },
     "execution_count": 12,
     "metadata": {},
     "output_type": "execute_result"
    }
   ],
   "source": [
    "chatelet_df.dtypes"
   ]
  },
  {
   "cell_type": "code",
   "execution_count": 13,
   "id": "ad023dfe",
   "metadata": {},
   "outputs": [],
   "source": [
    "chatelet_df['HUMI'] = chatelet_df['HUMI'].apply(lambda x: x.replace(',','.'))\n",
    "chatelet_df['TEMP'] = chatelet_df['TEMP'].apply(lambda x: x.replace(',','.'))"
   ]
  },
  {
   "cell_type": "code",
   "execution_count": 14,
   "id": "221f8a36",
   "metadata": {},
   "outputs": [],
   "source": [
    "chatelet_df['TEMP'] = chatelet_df['TEMP'].astype(float)\n",
    "chatelet_df['HUMI'] = chatelet_df['HUMI'].astype(float)\n"
   ]
  },
  {
   "cell_type": "code",
   "execution_count": 15,
   "id": "5f103007",
   "metadata": {},
   "outputs": [],
   "source": [
    "chatelet_df['NO2'] = chatelet_df['NO2'].apply(lambda x: x.replace('<',''))"
   ]
  },
  {
   "cell_type": "code",
   "execution_count": 16,
   "id": "b763b58b",
   "metadata": {},
   "outputs": [],
   "source": [
    "chatelet_df['NO2'] = chatelet_df['NO2'].astype(float)\n"
   ]
  },
  {
   "cell_type": "code",
   "execution_count": 17,
   "id": "35ed7dc7",
   "metadata": {},
   "outputs": [],
   "source": [
    "chatelet_df['PM10'] = chatelet_df['PM10'].apply(lambda x: x.replace('>',''))\n",
    "chatelet_df['PM10'] = chatelet_df['PM10'].apply(lambda x: x.replace('<',''))"
   ]
  },
  {
   "cell_type": "code",
   "execution_count": 18,
   "id": "9c0a1cca",
   "metadata": {},
   "outputs": [],
   "source": [
    "chatelet_df['PM10'] = chatelet_df['PM10'].astype(float)\n"
   ]
  },
  {
   "cell_type": "code",
   "execution_count": 19,
   "id": "70734006",
   "metadata": {},
   "outputs": [],
   "source": [
    "chatelet_df['CO2'] = chatelet_df['CO2'].astype(float)\n"
   ]
  },
  {
   "cell_type": "code",
   "execution_count": 20,
   "id": "5ad845d2",
   "metadata": {},
   "outputs": [],
   "source": [
    "chatelet_df['NO'] = chatelet_df['NO'].apply(lambda x: x.replace('<',''))"
   ]
  },
  {
   "cell_type": "code",
   "execution_count": 21,
   "id": "d9f8a3c0",
   "metadata": {},
   "outputs": [],
   "source": [
    "chatelet_df['NO'] = chatelet_df['NO'].astype(float)\n"
   ]
  },
  {
   "cell_type": "code",
   "execution_count": 22,
   "id": "76f3f6fe",
   "metadata": {},
   "outputs": [
    {
     "data": {
      "text/html": [
       "<div>\n",
       "<style scoped>\n",
       "    .dataframe tbody tr th:only-of-type {\n",
       "        vertical-align: middle;\n",
       "    }\n",
       "\n",
       "    .dataframe tbody tr th {\n",
       "        vertical-align: top;\n",
       "    }\n",
       "\n",
       "    .dataframe thead th {\n",
       "        text-align: right;\n",
       "    }\n",
       "</style>\n",
       "<table border=\"1\" class=\"dataframe\">\n",
       "  <thead>\n",
       "    <tr style=\"text-align: right;\">\n",
       "      <th></th>\n",
       "      <th>NO</th>\n",
       "      <th>NO2</th>\n",
       "      <th>PM10</th>\n",
       "      <th>CO2</th>\n",
       "      <th>TEMP</th>\n",
       "      <th>HUMI</th>\n",
       "    </tr>\n",
       "    <tr>\n",
       "      <th>DATE/HEURE</th>\n",
       "      <th></th>\n",
       "      <th></th>\n",
       "      <th></th>\n",
       "      <th></th>\n",
       "      <th></th>\n",
       "      <th></th>\n",
       "    </tr>\n",
       "  </thead>\n",
       "  <tbody>\n",
       "    <tr>\n",
       "      <th>2022-10-10T02:00:00+02:00</th>\n",
       "      <td>5.0</td>\n",
       "      <td>7.0</td>\n",
       "      <td>43.0</td>\n",
       "      <td>508.0</td>\n",
       "      <td>18.2</td>\n",
       "      <td>49.1</td>\n",
       "    </tr>\n",
       "    <tr>\n",
       "      <th>2022-10-10T01:00:00+02:00</th>\n",
       "      <td>5.0</td>\n",
       "      <td>7.0</td>\n",
       "      <td>45.0</td>\n",
       "      <td>529.0</td>\n",
       "      <td>18.5</td>\n",
       "      <td>48.4</td>\n",
       "    </tr>\n",
       "    <tr>\n",
       "      <th>2022-10-10T00:00:00+02:00</th>\n",
       "      <td>5.0</td>\n",
       "      <td>7.0</td>\n",
       "      <td>42.0</td>\n",
       "      <td>547.0</td>\n",
       "      <td>18.8</td>\n",
       "      <td>47.1</td>\n",
       "    </tr>\n",
       "    <tr>\n",
       "      <th>2022-10-09T23:00:00+02:00</th>\n",
       "      <td>5.0</td>\n",
       "      <td>7.0</td>\n",
       "      <td>59.0</td>\n",
       "      <td>614.0</td>\n",
       "      <td>19.1</td>\n",
       "      <td>47.2</td>\n",
       "    </tr>\n",
       "    <tr>\n",
       "      <th>2022-10-09T22:00:00+02:00</th>\n",
       "      <td>5.0</td>\n",
       "      <td>7.0</td>\n",
       "      <td>65.0</td>\n",
       "      <td>637.0</td>\n",
       "      <td>19.4</td>\n",
       "      <td>46.3</td>\n",
       "    </tr>\n",
       "    <tr>\n",
       "      <th>...</th>\n",
       "      <td>...</td>\n",
       "      <td>...</td>\n",
       "      <td>...</td>\n",
       "      <td>...</td>\n",
       "      <td>...</td>\n",
       "      <td>...</td>\n",
       "    </tr>\n",
       "    <tr>\n",
       "      <th>2013-01-01T06:00:00+01:00</th>\n",
       "      <td>4.0</td>\n",
       "      <td>26.0</td>\n",
       "      <td>102.0</td>\n",
       "      <td>622.0</td>\n",
       "      <td>21.2</td>\n",
       "      <td>45.9</td>\n",
       "    </tr>\n",
       "    <tr>\n",
       "      <th>2013-01-01T05:00:00+01:00</th>\n",
       "      <td>3.0</td>\n",
       "      <td>25.0</td>\n",
       "      <td>85.0</td>\n",
       "      <td>715.0</td>\n",
       "      <td>21.6</td>\n",
       "      <td>45.8</td>\n",
       "    </tr>\n",
       "    <tr>\n",
       "      <th>2013-01-01T04:00:00+01:00</th>\n",
       "      <td>4.0</td>\n",
       "      <td>27.0</td>\n",
       "      <td>124.0</td>\n",
       "      <td>799.0</td>\n",
       "      <td>21.8</td>\n",
       "      <td>47.0</td>\n",
       "    </tr>\n",
       "    <tr>\n",
       "      <th>2013-01-01T03:00:00+01:00</th>\n",
       "      <td>6.0</td>\n",
       "      <td>30.0</td>\n",
       "      <td>166.0</td>\n",
       "      <td>800.0</td>\n",
       "      <td>21.6</td>\n",
       "      <td>47.3</td>\n",
       "    </tr>\n",
       "    <tr>\n",
       "      <th>2013-01-01T02:00:00+01:00</th>\n",
       "      <td>6.0</td>\n",
       "      <td>31.0</td>\n",
       "      <td>182.0</td>\n",
       "      <td>776.0</td>\n",
       "      <td>21.5</td>\n",
       "      <td>46.2</td>\n",
       "    </tr>\n",
       "  </tbody>\n",
       "</table>\n",
       "<p>74950 rows × 6 columns</p>\n",
       "</div>"
      ],
      "text/plain": [
       "                            NO   NO2   PM10    CO2  TEMP  HUMI\n",
       "DATE/HEURE                                                    \n",
       "2022-10-10T02:00:00+02:00  5.0   7.0   43.0  508.0  18.2  49.1\n",
       "2022-10-10T01:00:00+02:00  5.0   7.0   45.0  529.0  18.5  48.4\n",
       "2022-10-10T00:00:00+02:00  5.0   7.0   42.0  547.0  18.8  47.1\n",
       "2022-10-09T23:00:00+02:00  5.0   7.0   59.0  614.0  19.1  47.2\n",
       "2022-10-09T22:00:00+02:00  5.0   7.0   65.0  637.0  19.4  46.3\n",
       "...                        ...   ...    ...    ...   ...   ...\n",
       "2013-01-01T06:00:00+01:00  4.0  26.0  102.0  622.0  21.2  45.9\n",
       "2013-01-01T05:00:00+01:00  3.0  25.0   85.0  715.0  21.6  45.8\n",
       "2013-01-01T04:00:00+01:00  4.0  27.0  124.0  799.0  21.8  47.0\n",
       "2013-01-01T03:00:00+01:00  6.0  30.0  166.0  800.0  21.6  47.3\n",
       "2013-01-01T02:00:00+01:00  6.0  31.0  182.0  776.0  21.5  46.2\n",
       "\n",
       "[74950 rows x 6 columns]"
      ]
     },
     "execution_count": 22,
     "metadata": {},
     "output_type": "execute_result"
    }
   ],
   "source": [
    "chatelet_df"
   ]
  },
  {
   "cell_type": "code",
   "execution_count": 23,
   "id": "d678459b",
   "metadata": {},
   "outputs": [
    {
     "data": {
      "text/plain": [
       "NO      float64\n",
       "NO2     float64\n",
       "PM10    float64\n",
       "CO2     float64\n",
       "TEMP    float64\n",
       "HUMI    float64\n",
       "dtype: object"
      ]
     },
     "execution_count": 23,
     "metadata": {},
     "output_type": "execute_result"
    }
   ],
   "source": [
    "chatelet_df.dtypes"
   ]
  },
  {
   "cell_type": "markdown",
   "id": "869f59dd",
   "metadata": {},
   "source": [
    "# Data transforming"
   ]
  },
  {
   "cell_type": "code",
   "execution_count": 24,
   "id": "7acbc37a",
   "metadata": {},
   "outputs": [],
   "source": [
    "chatelet_df.index = pd.to_datetime(chatelet_df.index, utc = True)"
   ]
  },
  {
   "cell_type": "code",
   "execution_count": 25,
   "id": "838aed9f",
   "metadata": {},
   "outputs": [
    {
     "data": {
      "text/plain": [
       "NO      float64\n",
       "NO2     float64\n",
       "PM10    float64\n",
       "CO2     float64\n",
       "TEMP    float64\n",
       "HUMI    float64\n",
       "dtype: object"
      ]
     },
     "execution_count": 25,
     "metadata": {},
     "output_type": "execute_result"
    }
   ],
   "source": [
    "chatelet_df.dtypes"
   ]
  },
  {
   "cell_type": "code",
   "execution_count": 26,
   "id": "ca70a542",
   "metadata": {},
   "outputs": [
    {
     "data": {
      "text/html": [
       "<div>\n",
       "<style scoped>\n",
       "    .dataframe tbody tr th:only-of-type {\n",
       "        vertical-align: middle;\n",
       "    }\n",
       "\n",
       "    .dataframe tbody tr th {\n",
       "        vertical-align: top;\n",
       "    }\n",
       "\n",
       "    .dataframe thead th {\n",
       "        text-align: right;\n",
       "    }\n",
       "</style>\n",
       "<table border=\"1\" class=\"dataframe\">\n",
       "  <thead>\n",
       "    <tr style=\"text-align: right;\">\n",
       "      <th></th>\n",
       "      <th>DATE/HEURE</th>\n",
       "      <th>NO</th>\n",
       "      <th>NO2</th>\n",
       "      <th>PM10</th>\n",
       "      <th>CO2</th>\n",
       "      <th>TEMP</th>\n",
       "      <th>HUMI</th>\n",
       "    </tr>\n",
       "  </thead>\n",
       "  <tbody>\n",
       "    <tr>\n",
       "      <th>0</th>\n",
       "      <td>2022-10-10 00:00:00+00:00</td>\n",
       "      <td>5.0</td>\n",
       "      <td>7.0</td>\n",
       "      <td>43.0</td>\n",
       "      <td>508.0</td>\n",
       "      <td>18.2</td>\n",
       "      <td>49.1</td>\n",
       "    </tr>\n",
       "    <tr>\n",
       "      <th>1</th>\n",
       "      <td>2022-10-09 23:00:00+00:00</td>\n",
       "      <td>5.0</td>\n",
       "      <td>7.0</td>\n",
       "      <td>45.0</td>\n",
       "      <td>529.0</td>\n",
       "      <td>18.5</td>\n",
       "      <td>48.4</td>\n",
       "    </tr>\n",
       "    <tr>\n",
       "      <th>2</th>\n",
       "      <td>2022-10-09 22:00:00+00:00</td>\n",
       "      <td>5.0</td>\n",
       "      <td>7.0</td>\n",
       "      <td>42.0</td>\n",
       "      <td>547.0</td>\n",
       "      <td>18.8</td>\n",
       "      <td>47.1</td>\n",
       "    </tr>\n",
       "    <tr>\n",
       "      <th>3</th>\n",
       "      <td>2022-10-09 21:00:00+00:00</td>\n",
       "      <td>5.0</td>\n",
       "      <td>7.0</td>\n",
       "      <td>59.0</td>\n",
       "      <td>614.0</td>\n",
       "      <td>19.1</td>\n",
       "      <td>47.2</td>\n",
       "    </tr>\n",
       "    <tr>\n",
       "      <th>4</th>\n",
       "      <td>2022-10-09 20:00:00+00:00</td>\n",
       "      <td>5.0</td>\n",
       "      <td>7.0</td>\n",
       "      <td>65.0</td>\n",
       "      <td>637.0</td>\n",
       "      <td>19.4</td>\n",
       "      <td>46.3</td>\n",
       "    </tr>\n",
       "    <tr>\n",
       "      <th>...</th>\n",
       "      <td>...</td>\n",
       "      <td>...</td>\n",
       "      <td>...</td>\n",
       "      <td>...</td>\n",
       "      <td>...</td>\n",
       "      <td>...</td>\n",
       "      <td>...</td>\n",
       "    </tr>\n",
       "    <tr>\n",
       "      <th>74945</th>\n",
       "      <td>2013-01-01 05:00:00+00:00</td>\n",
       "      <td>4.0</td>\n",
       "      <td>26.0</td>\n",
       "      <td>102.0</td>\n",
       "      <td>622.0</td>\n",
       "      <td>21.2</td>\n",
       "      <td>45.9</td>\n",
       "    </tr>\n",
       "    <tr>\n",
       "      <th>74946</th>\n",
       "      <td>2013-01-01 04:00:00+00:00</td>\n",
       "      <td>3.0</td>\n",
       "      <td>25.0</td>\n",
       "      <td>85.0</td>\n",
       "      <td>715.0</td>\n",
       "      <td>21.6</td>\n",
       "      <td>45.8</td>\n",
       "    </tr>\n",
       "    <tr>\n",
       "      <th>74947</th>\n",
       "      <td>2013-01-01 03:00:00+00:00</td>\n",
       "      <td>4.0</td>\n",
       "      <td>27.0</td>\n",
       "      <td>124.0</td>\n",
       "      <td>799.0</td>\n",
       "      <td>21.8</td>\n",
       "      <td>47.0</td>\n",
       "    </tr>\n",
       "    <tr>\n",
       "      <th>74948</th>\n",
       "      <td>2013-01-01 02:00:00+00:00</td>\n",
       "      <td>6.0</td>\n",
       "      <td>30.0</td>\n",
       "      <td>166.0</td>\n",
       "      <td>800.0</td>\n",
       "      <td>21.6</td>\n",
       "      <td>47.3</td>\n",
       "    </tr>\n",
       "    <tr>\n",
       "      <th>74949</th>\n",
       "      <td>2013-01-01 01:00:00+00:00</td>\n",
       "      <td>6.0</td>\n",
       "      <td>31.0</td>\n",
       "      <td>182.0</td>\n",
       "      <td>776.0</td>\n",
       "      <td>21.5</td>\n",
       "      <td>46.2</td>\n",
       "    </tr>\n",
       "  </tbody>\n",
       "</table>\n",
       "<p>74950 rows × 7 columns</p>\n",
       "</div>"
      ],
      "text/plain": [
       "                     DATE/HEURE   NO   NO2   PM10    CO2  TEMP  HUMI\n",
       "0     2022-10-10 00:00:00+00:00  5.0   7.0   43.0  508.0  18.2  49.1\n",
       "1     2022-10-09 23:00:00+00:00  5.0   7.0   45.0  529.0  18.5  48.4\n",
       "2     2022-10-09 22:00:00+00:00  5.0   7.0   42.0  547.0  18.8  47.1\n",
       "3     2022-10-09 21:00:00+00:00  5.0   7.0   59.0  614.0  19.1  47.2\n",
       "4     2022-10-09 20:00:00+00:00  5.0   7.0   65.0  637.0  19.4  46.3\n",
       "...                         ...  ...   ...    ...    ...   ...   ...\n",
       "74945 2013-01-01 05:00:00+00:00  4.0  26.0  102.0  622.0  21.2  45.9\n",
       "74946 2013-01-01 04:00:00+00:00  3.0  25.0   85.0  715.0  21.6  45.8\n",
       "74947 2013-01-01 03:00:00+00:00  4.0  27.0  124.0  799.0  21.8  47.0\n",
       "74948 2013-01-01 02:00:00+00:00  6.0  30.0  166.0  800.0  21.6  47.3\n",
       "74949 2013-01-01 01:00:00+00:00  6.0  31.0  182.0  776.0  21.5  46.2\n",
       "\n",
       "[74950 rows x 7 columns]"
      ]
     },
     "execution_count": 26,
     "metadata": {},
     "output_type": "execute_result"
    }
   ],
   "source": [
    "chatelet_df = chatelet_df.reset_index()\n",
    "chatelet_df"
   ]
  },
  {
   "cell_type": "code",
   "execution_count": 27,
   "id": "7b06414b",
   "metadata": {},
   "outputs": [],
   "source": [
    "chatelet_df['date'] = pd.to_datetime(chatelet_df['DATE/HEURE'], errors='coerce').dt.date\n",
    "chatelet_df['time'] = pd.to_datetime(chatelet_df['DATE/HEURE'], errors='coerce').dt.time"
   ]
  },
  {
   "cell_type": "code",
   "execution_count": 28,
   "id": "84445eec",
   "metadata": {},
   "outputs": [
    {
     "data": {
      "text/plain": [
       "DATE/HEURE    datetime64[ns, UTC]\n",
       "NO                        float64\n",
       "NO2                       float64\n",
       "PM10                      float64\n",
       "CO2                       float64\n",
       "TEMP                      float64\n",
       "HUMI                      float64\n",
       "date                       object\n",
       "time                       object\n",
       "dtype: object"
      ]
     },
     "execution_count": 28,
     "metadata": {},
     "output_type": "execute_result"
    }
   ],
   "source": [
    "chatelet_df.dtypes"
   ]
  },
  {
   "cell_type": "code",
   "execution_count": 29,
   "id": "47e5ec95",
   "metadata": {},
   "outputs": [],
   "source": [
    "chatelet_df['year'] = pd.to_datetime(chatelet_df['date']).dt.year"
   ]
  },
  {
   "cell_type": "code",
   "execution_count": 30,
   "id": "bf9afa01",
   "metadata": {},
   "outputs": [],
   "source": [
    "chatelet_df['day']=pd.to_datetime(chatelet_df['date']).dt.day"
   ]
  },
  {
   "cell_type": "code",
   "execution_count": 31,
   "id": "f48be691",
   "metadata": {},
   "outputs": [],
   "source": [
    "chatelet_df['day_name']=pd.to_datetime(chatelet_df['date']).dt.day_name()"
   ]
  },
  {
   "cell_type": "code",
   "execution_count": 32,
   "id": "95bf91d7",
   "metadata": {},
   "outputs": [],
   "source": [
    "chatelet_df['month']=pd.to_datetime(chatelet_df['date']).dt.month"
   ]
  },
  {
   "cell_type": "markdown",
   "id": "3e6ff350",
   "metadata": {},
   "source": [
    "# Clustering"
   ]
  },
  {
   "cell_type": "code",
   "execution_count": 34,
   "id": "b7e158de",
   "metadata": {},
   "outputs": [],
   "source": [
    "import pandas as pd \n",
    "import numpy as np\n",
    "import matplotlib.pyplot as plt\n",
    "import seaborn as sns\n",
    "from sklearn.preprocessing import StandardScaler\n",
    "from sklearn.cluster import KMeans\n",
    "from sklearn.decomposition import PCA"
   ]
  },
  {
   "cell_type": "code",
   "execution_count": 35,
   "id": "edda81aa",
   "metadata": {},
   "outputs": [
    {
     "data": {
      "image/png": "[encoded data removed]",
      "text/plain": [
       "<Figure size 864x648 with 2 Axes>"
      ]
     },
     "metadata": {
      "needs_background": "light"
     },
     "output_type": "display_data"
    }
   ],
   "source": [
    "plt.figure(figsize=(12,9))\n",
    "sns.heatmap(chatelet_df.corr(),annot=True,cmap='RdBu')\n",
    "plt.title('Correlation ',fontsize=14)\n",
    "plt.yticks(rotation =0)\n",
    "plt.show()"
   ]
  },
  {
   "cell_type": "code",
   "execution_count": 36,
   "id": "74cc212a",
   "metadata": {
    "scrolled": false
   },
   "outputs": [
    {
     "data": {
      "text/html": [
       "<div>\n",
       "<style scoped>\n",
       "    .dataframe tbody tr th:only-of-type {\n",
       "        vertical-align: middle;\n",
       "    }\n",
       "\n",
       "    .dataframe tbody tr th {\n",
       "        vertical-align: top;\n",
       "    }\n",
       "\n",
       "    .dataframe thead th {\n",
       "        text-align: right;\n",
       "    }\n",
       "</style>\n",
       "<table border=\"1\" class=\"dataframe\">\n",
       "  <thead>\n",
       "    <tr style=\"text-align: right;\">\n",
       "      <th></th>\n",
       "      <th>DATE/HEURE</th>\n",
       "      <th>NO</th>\n",
       "      <th>NO2</th>\n",
       "      <th>PM10</th>\n",
       "      <th>CO2</th>\n",
       "      <th>TEMP</th>\n",
       "      <th>HUMI</th>\n",
       "      <th>date</th>\n",
       "      <th>time</th>\n",
       "      <th>year</th>\n",
       "      <th>day</th>\n",
       "      <th>day_name</th>\n",
       "      <th>month</th>\n",
       "    </tr>\n",
       "  </thead>\n",
       "  <tbody>\n",
       "    <tr>\n",
       "      <th>0</th>\n",
       "      <td>2022-10-10 00:00:00+00:00</td>\n",
       "      <td>5.0</td>\n",
       "      <td>7.0</td>\n",
       "      <td>43.0</td>\n",
       "      <td>508.0</td>\n",
       "      <td>18.2</td>\n",
       "      <td>49.1</td>\n",
       "      <td>2022-10-10</td>\n",
       "      <td>00:00:00</td>\n",
       "      <td>2022</td>\n",
       "      <td>10</td>\n",
       "      <td>Monday</td>\n",
       "      <td>10</td>\n",
       "    </tr>\n",
       "    <tr>\n",
       "      <th>1</th>\n",
       "      <td>2022-10-09 23:00:00+00:00</td>\n",
       "      <td>5.0</td>\n",
       "      <td>7.0</td>\n",
       "      <td>45.0</td>\n",
       "      <td>529.0</td>\n",
       "      <td>18.5</td>\n",
       "      <td>48.4</td>\n",
       "      <td>2022-10-09</td>\n",
       "      <td>23:00:00</td>\n",
       "      <td>2022</td>\n",
       "      <td>9</td>\n",
       "      <td>Sunday</td>\n",
       "      <td>10</td>\n",
       "    </tr>\n",
       "    <tr>\n",
       "      <th>2</th>\n",
       "      <td>2022-10-09 22:00:00+00:00</td>\n",
       "      <td>5.0</td>\n",
       "      <td>7.0</td>\n",
       "      <td>42.0</td>\n",
       "      <td>547.0</td>\n",
       "      <td>18.8</td>\n",
       "      <td>47.1</td>\n",
       "      <td>2022-10-09</td>\n",
       "      <td>22:00:00</td>\n",
       "      <td>2022</td>\n",
       "      <td>9</td>\n",
       "      <td>Sunday</td>\n",
       "      <td>10</td>\n",
       "    </tr>\n",
       "    <tr>\n",
       "      <th>3</th>\n",
       "      <td>2022-10-09 21:00:00+00:00</td>\n",
       "      <td>5.0</td>\n",
       "      <td>7.0</td>\n",
       "      <td>59.0</td>\n",
       "      <td>614.0</td>\n",
       "      <td>19.1</td>\n",
       "      <td>47.2</td>\n",
       "      <td>2022-10-09</td>\n",
       "      <td>21:00:00</td>\n",
       "      <td>2022</td>\n",
       "      <td>9</td>\n",
       "      <td>Sunday</td>\n",
       "      <td>10</td>\n",
       "    </tr>\n",
       "    <tr>\n",
       "      <th>4</th>\n",
       "      <td>2022-10-09 20:00:00+00:00</td>\n",
       "      <td>5.0</td>\n",
       "      <td>7.0</td>\n",
       "      <td>65.0</td>\n",
       "      <td>637.0</td>\n",
       "      <td>19.4</td>\n",
       "      <td>46.3</td>\n",
       "      <td>2022-10-09</td>\n",
       "      <td>20:00:00</td>\n",
       "      <td>2022</td>\n",
       "      <td>9</td>\n",
       "      <td>Sunday</td>\n",
       "      <td>10</td>\n",
       "    </tr>\n",
       "  </tbody>\n",
       "</table>\n",
       "</div>"
      ],
      "text/plain": [
       "                 DATE/HEURE   NO  NO2  PM10    CO2  TEMP  HUMI        date  \\\n",
       "0 2022-10-10 00:00:00+00:00  5.0  7.0  43.0  508.0  18.2  49.1  2022-10-10   \n",
       "1 2022-10-09 23:00:00+00:00  5.0  7.0  45.0  529.0  18.5  48.4  2022-10-09   \n",
       "2 2022-10-09 22:00:00+00:00  5.0  7.0  42.0  547.0  18.8  47.1  2022-10-09   \n",
       "3 2022-10-09 21:00:00+00:00  5.0  7.0  59.0  614.0  19.1  47.2  2022-10-09   \n",
       "4 2022-10-09 20:00:00+00:00  5.0  7.0  65.0  637.0  19.4  46.3  2022-10-09   \n",
       "\n",
       "       time  year  day day_name  month  \n",
       "0  00:00:00  2022   10   Monday     10  \n",
       "1  23:00:00  2022    9   Sunday     10  \n",
       "2  22:00:00  2022    9   Sunday     10  \n",
       "3  21:00:00  2022    9   Sunday     10  \n",
       "4  20:00:00  2022    9   Sunday     10  "
      ]
     },
     "execution_count": 36,
     "metadata": {},
     "output_type": "execute_result"
    }
   ],
   "source": [
    "chatelet_df.head(5)"
   ]
  },
  {
   "cell_type": "code",
   "execution_count": 62,
   "id": "069c37bb",
   "metadata": {},
   "outputs": [],
   "source": [
    "X = chatelet_df[['month','TEMP']]"
   ]
  },
  {
   "cell_type": "code",
   "execution_count": 63,
   "id": "1baf62b4",
   "metadata": {
    "scrolled": true
   },
   "outputs": [
    {
     "data": {
      "text/html": [
       "<div>\n",
       "<style scoped>\n",
       "    .dataframe tbody tr th:only-of-type {\n",
       "        vertical-align: middle;\n",
       "    }\n",
       "\n",
       "    .dataframe tbody tr th {\n",
       "        vertical-align: top;\n",
       "    }\n",
       "\n",
       "    .dataframe thead th {\n",
       "        text-align: right;\n",
       "    }\n",
       "</style>\n",
       "<table border=\"1\" class=\"dataframe\">\n",
       "  <thead>\n",
       "    <tr style=\"text-align: right;\">\n",
       "      <th></th>\n",
       "      <th>month</th>\n",
       "      <th>TEMP</th>\n",
       "    </tr>\n",
       "  </thead>\n",
       "  <tbody>\n",
       "    <tr>\n",
       "      <th>0</th>\n",
       "      <td>10</td>\n",
       "      <td>18.2</td>\n",
       "    </tr>\n",
       "    <tr>\n",
       "      <th>1</th>\n",
       "      <td>10</td>\n",
       "      <td>18.5</td>\n",
       "    </tr>\n",
       "    <tr>\n",
       "      <th>2</th>\n",
       "      <td>10</td>\n",
       "      <td>18.8</td>\n",
       "    </tr>\n",
       "    <tr>\n",
       "      <th>3</th>\n",
       "      <td>10</td>\n",
       "      <td>19.1</td>\n",
       "    </tr>\n",
       "    <tr>\n",
       "      <th>4</th>\n",
       "      <td>10</td>\n",
       "      <td>19.4</td>\n",
       "    </tr>\n",
       "    <tr>\n",
       "      <th>...</th>\n",
       "      <td>...</td>\n",
       "      <td>...</td>\n",
       "    </tr>\n",
       "    <tr>\n",
       "      <th>74945</th>\n",
       "      <td>1</td>\n",
       "      <td>21.2</td>\n",
       "    </tr>\n",
       "    <tr>\n",
       "      <th>74946</th>\n",
       "      <td>1</td>\n",
       "      <td>21.6</td>\n",
       "    </tr>\n",
       "    <tr>\n",
       "      <th>74947</th>\n",
       "      <td>1</td>\n",
       "      <td>21.8</td>\n",
       "    </tr>\n",
       "    <tr>\n",
       "      <th>74948</th>\n",
       "      <td>1</td>\n",
       "      <td>21.6</td>\n",
       "    </tr>\n",
       "    <tr>\n",
       "      <th>74949</th>\n",
       "      <td>1</td>\n",
       "      <td>21.5</td>\n",
       "    </tr>\n",
       "  </tbody>\n",
       "</table>\n",
       "<p>74950 rows × 2 columns</p>\n",
       "</div>"
      ],
      "text/plain": [
       "       month  TEMP\n",
       "0         10  18.2\n",
       "1         10  18.5\n",
       "2         10  18.8\n",
       "3         10  19.1\n",
       "4         10  19.4\n",
       "...      ...   ...\n",
       "74945      1  21.2\n",
       "74946      1  21.6\n",
       "74947      1  21.8\n",
       "74948      1  21.6\n",
       "74949      1  21.5\n",
       "\n",
       "[74950 rows x 2 columns]"
      ]
     },
     "execution_count": 63,
     "metadata": {},
     "output_type": "execute_result"
    }
   ],
   "source": [
    "X"
   ]
  },
  {
   "cell_type": "code",
   "execution_count": 64,
   "id": "40cc7de2",
   "metadata": {
    "scrolled": true
   },
   "outputs": [
    {
     "data": {
      "text/plain": [
       "Text(0, 0.5, 'WCSS')"
      ]
     },
     "execution_count": 64,
     "metadata": {},
     "output_type": "execute_result"
    },
    {
     "data": {
      "image/png": "[encoded data removed]",
      "text/plain": [
       "<Figure size 432x288 with 1 Axes>"
      ]
     },
     "metadata": {
      "needs_background": "light"
     },
     "output_type": "display_data"
    }
   ],
   "source": [
    "wcss=[]\n",
    "for i in range(1,7):\n",
    "    kmeans = KMeans(i)\n",
    "    kmeans.fit(X)\n",
    "    wcss_iter = kmeans.inertia_\n",
    "    wcss.append(wcss_iter)\n",
    "\n",
    "number_clusters = range(1,7)\n",
    "plt.plot(number_clusters,wcss)\n",
    "plt.title('The Elbow method')\n",
    "plt.xlabel('Number of clusters')\n",
    "plt.ylabel('WCSS')"
   ]
  },
  {
   "cell_type": "code",
   "execution_count": 65,
   "id": "84205b65",
   "metadata": {},
   "outputs": [],
   "source": [
    "kmeans = KMeans(n_clusters = 3, init = 'k-means++', random_state = 42)"
   ]
  },
  {
   "cell_type": "code",
   "execution_count": 66,
   "id": "56698ab6",
   "metadata": {},
   "outputs": [
    {
     "data": {
      "text/plain": [
       "KMeans(n_clusters=3, random_state=42)"
      ]
     },
     "execution_count": 66,
     "metadata": {},
     "output_type": "execute_result"
    }
   ],
   "source": [
    "kmeans.fit(X)"
   ]
  },
  {
   "cell_type": "code",
   "execution_count": 67,
   "id": "d77560fb",
   "metadata": {
    "scrolled": true
   },
   "outputs": [
    {
     "name": "stderr",
     "output_type": "stream",
     "text": [
      "C:\\Users\\Andreea STROIA\\AppData\\Local\\Temp\\ipykernel_12644\\1951643354.py:2: SettingWithCopyWarning: \n",
      "A value is trying to be set on a copy of a slice from a DataFrame.\n",
      "Try using .loc[row_indexer,col_indexer] = value instead\n",
      "\n",
      "See the caveats in the documentation: https://pandas.pydata.org/pandas-docs/stable/user_guide/indexing.html#returning-a-view-versus-a-copy\n",
      "  X['Cluster'] = kmeans.labels_\n"
     ]
    }
   ],
   "source": [
    "df_cluster= X.copy()\n",
    "X['Cluster'] = kmeans.labels_"
   ]
  },
  {
   "cell_type": "code",
   "execution_count": 68,
   "id": "629df6ad",
   "metadata": {
    "scrolled": true
   },
   "outputs": [
    {
     "data": {
      "text/html": [
       "<div>\n",
       "<style scoped>\n",
       "    .dataframe tbody tr th:only-of-type {\n",
       "        vertical-align: middle;\n",
       "    }\n",
       "\n",
       "    .dataframe tbody tr th {\n",
       "        vertical-align: top;\n",
       "    }\n",
       "\n",
       "    .dataframe thead th {\n",
       "        text-align: right;\n",
       "    }\n",
       "</style>\n",
       "<table border=\"1\" class=\"dataframe\">\n",
       "  <thead>\n",
       "    <tr style=\"text-align: right;\">\n",
       "      <th></th>\n",
       "      <th>month</th>\n",
       "      <th>TEMP</th>\n",
       "      <th>Cluster</th>\n",
       "    </tr>\n",
       "  </thead>\n",
       "  <tbody>\n",
       "    <tr>\n",
       "      <th>0</th>\n",
       "      <td>10</td>\n",
       "      <td>18.2</td>\n",
       "      <td>0</td>\n",
       "    </tr>\n",
       "    <tr>\n",
       "      <th>1</th>\n",
       "      <td>10</td>\n",
       "      <td>18.5</td>\n",
       "      <td>0</td>\n",
       "    </tr>\n",
       "    <tr>\n",
       "      <th>2</th>\n",
       "      <td>10</td>\n",
       "      <td>18.8</td>\n",
       "      <td>0</td>\n",
       "    </tr>\n",
       "    <tr>\n",
       "      <th>3</th>\n",
       "      <td>10</td>\n",
       "      <td>19.1</td>\n",
       "      <td>0</td>\n",
       "    </tr>\n",
       "    <tr>\n",
       "      <th>4</th>\n",
       "      <td>10</td>\n",
       "      <td>19.4</td>\n",
       "      <td>0</td>\n",
       "    </tr>\n",
       "    <tr>\n",
       "      <th>5</th>\n",
       "      <td>10</td>\n",
       "      <td>19.5</td>\n",
       "      <td>0</td>\n",
       "    </tr>\n",
       "    <tr>\n",
       "      <th>6</th>\n",
       "      <td>10</td>\n",
       "      <td>19.5</td>\n",
       "      <td>0</td>\n",
       "    </tr>\n",
       "    <tr>\n",
       "      <th>7</th>\n",
       "      <td>10</td>\n",
       "      <td>19.4</td>\n",
       "      <td>0</td>\n",
       "    </tr>\n",
       "    <tr>\n",
       "      <th>8</th>\n",
       "      <td>10</td>\n",
       "      <td>19.2</td>\n",
       "      <td>0</td>\n",
       "    </tr>\n",
       "    <tr>\n",
       "      <th>9</th>\n",
       "      <td>10</td>\n",
       "      <td>18.5</td>\n",
       "      <td>0</td>\n",
       "    </tr>\n",
       "  </tbody>\n",
       "</table>\n",
       "</div>"
      ],
      "text/plain": [
       "   month  TEMP  Cluster\n",
       "0     10  18.2        0\n",
       "1     10  18.5        0\n",
       "2     10  18.8        0\n",
       "3     10  19.1        0\n",
       "4     10  19.4        0\n",
       "5     10  19.5        0\n",
       "6     10  19.5        0\n",
       "7     10  19.4        0\n",
       "8     10  19.2        0\n",
       "9     10  18.5        0"
      ]
     },
     "execution_count": 68,
     "metadata": {},
     "output_type": "execute_result"
    }
   ],
   "source": [
    "X.head(10)"
   ]
  },
  {
   "cell_type": "code",
   "execution_count": 72,
   "id": "ba375c1d",
   "metadata": {
    "scrolled": true
   },
   "outputs": [
    {
     "name": "stdout",
     "output_type": "stream",
     "text": [
      "Cluster\n",
      "0    19.234569\n",
      "1    24.653288\n",
      "2    18.311578\n",
      "Name: TEMP, dtype: float64\n"
     ]
    }
   ],
   "source": [
    "df_cluster1=X.groupby(['Cluster']).mean()\n",
    "print(df_cluster1['TEMP'])"
   ]
  },
  {
   "cell_type": "code",
   "execution_count": 76,
   "id": "8b65a4a1",
   "metadata": {
    "scrolled": true
   },
   "outputs": [
    {
     "name": "stderr",
     "output_type": "stream",
     "text": [
      "C:\\Users\\Andreea STROIA\\anaconda3\\lib\\site-packages\\seaborn\\_decorators.py:36: FutureWarning: Pass the following variables as keyword args: x, y. From version 0.12, the only valid positional argument will be `data`, and passing other arguments without an explicit keyword will result in an error or misinterpretation.\n",
      "  warnings.warn(\n"
     ]
    },
    {
     "data": {
      "image/png": "[encoded data removed]",
      "text/plain": [
       "<Figure size 720x576 with 1 Axes>"
      ]
     },
     "metadata": {
      "needs_background": "light"
     },
     "output_type": "display_data"
    }
   ],
   "source": [
    "x_axis = X['month']\n",
    "y_axis = X['TEMP']\n",
    "plt.figure(figsize = (10, 8))\n",
    "sns.scatterplot(x_axis, y_axis, hue = X['Cluster'], palette = ['g', 'r', 'c'])\n",
    "plt.title('Monthly clustering')\n",
    "plt.show()"
   ]
  },
  {
   "cell_type": "code",
   "execution_count": 77,
   "id": "fd3309d2",
   "metadata": {
    "scrolled": true
   },
   "outputs": [
    {
     "data": {
      "text/html": [
       "<div>\n",
       "<style scoped>\n",
       "    .dataframe tbody tr th:only-of-type {\n",
       "        vertical-align: middle;\n",
       "    }\n",
       "\n",
       "    .dataframe tbody tr th {\n",
       "        vertical-align: top;\n",
       "    }\n",
       "\n",
       "    .dataframe thead th {\n",
       "        text-align: right;\n",
       "    }\n",
       "</style>\n",
       "<table border=\"1\" class=\"dataframe\">\n",
       "  <thead>\n",
       "    <tr style=\"text-align: right;\">\n",
       "      <th></th>\n",
       "      <th>month</th>\n",
       "      <th>TEMP</th>\n",
       "      <th>Cluster</th>\n",
       "    </tr>\n",
       "  </thead>\n",
       "  <tbody>\n",
       "    <tr>\n",
       "      <th>0</th>\n",
       "      <td>10</td>\n",
       "      <td>18.2</td>\n",
       "      <td>0</td>\n",
       "    </tr>\n",
       "    <tr>\n",
       "      <th>1</th>\n",
       "      <td>10</td>\n",
       "      <td>18.5</td>\n",
       "      <td>0</td>\n",
       "    </tr>\n",
       "    <tr>\n",
       "      <th>2</th>\n",
       "      <td>10</td>\n",
       "      <td>18.8</td>\n",
       "      <td>0</td>\n",
       "    </tr>\n",
       "    <tr>\n",
       "      <th>3</th>\n",
       "      <td>10</td>\n",
       "      <td>19.1</td>\n",
       "      <td>0</td>\n",
       "    </tr>\n",
       "    <tr>\n",
       "      <th>4</th>\n",
       "      <td>10</td>\n",
       "      <td>19.4</td>\n",
       "      <td>0</td>\n",
       "    </tr>\n",
       "    <tr>\n",
       "      <th>...</th>\n",
       "      <td>...</td>\n",
       "      <td>...</td>\n",
       "      <td>...</td>\n",
       "    </tr>\n",
       "    <tr>\n",
       "      <th>74945</th>\n",
       "      <td>1</td>\n",
       "      <td>21.2</td>\n",
       "      <td>2</td>\n",
       "    </tr>\n",
       "    <tr>\n",
       "      <th>74946</th>\n",
       "      <td>1</td>\n",
       "      <td>21.6</td>\n",
       "      <td>2</td>\n",
       "    </tr>\n",
       "    <tr>\n",
       "      <th>74947</th>\n",
       "      <td>1</td>\n",
       "      <td>21.8</td>\n",
       "      <td>2</td>\n",
       "    </tr>\n",
       "    <tr>\n",
       "      <th>74948</th>\n",
       "      <td>1</td>\n",
       "      <td>21.6</td>\n",
       "      <td>2</td>\n",
       "    </tr>\n",
       "    <tr>\n",
       "      <th>74949</th>\n",
       "      <td>1</td>\n",
       "      <td>21.5</td>\n",
       "      <td>2</td>\n",
       "    </tr>\n",
       "  </tbody>\n",
       "</table>\n",
       "<p>74950 rows × 3 columns</p>\n",
       "</div>"
      ],
      "text/plain": [
       "       month  TEMP  Cluster\n",
       "0         10  18.2        0\n",
       "1         10  18.5        0\n",
       "2         10  18.8        0\n",
       "3         10  19.1        0\n",
       "4         10  19.4        0\n",
       "...      ...   ...      ...\n",
       "74945      1  21.2        2\n",
       "74946      1  21.6        2\n",
       "74947      1  21.8        2\n",
       "74948      1  21.6        2\n",
       "74949      1  21.5        2\n",
       "\n",
       "[74950 rows x 3 columns]"
      ]
     },
     "execution_count": 77,
     "metadata": {},
     "output_type": "execute_result"
    }
   ],
   "source": [
    "X"
   ]
  },
  {
   "cell_type": "code",
   "execution_count": 81,
   "id": "dc45b59a",
   "metadata": {
    "scrolled": true
   },
   "outputs": [
    {
     "name": "stderr",
     "output_type": "stream",
     "text": [
      "C:\\Users\\Andreea STROIA\\AppData\\Local\\Temp\\ipykernel_12644\\1983860601.py:1: SettingWithCopyWarning: \n",
      "A value is trying to be set on a copy of a slice from a DataFrame.\n",
      "Try using .loc[row_indexer,col_indexer] = value instead\n",
      "\n",
      "See the caveats in the documentation: https://pandas.pydata.org/pandas-docs/stable/user_guide/indexing.html#returning-a-view-versus-a-copy\n",
      "  X['Cluster_name']=X['Cluster'].replace(['0','1', '2'], ['Chilly', 'Summery', 'Cold'])\n"
     ]
    }
   ],
   "source": [
    "X['Cluster_name']=X['Cluster'].replace(['0','1', '2'], ['Chilly', 'Summery', 'Cold'])"
   ]
  },
  {
   "cell_type": "code",
   "execution_count": 83,
   "id": "4b1c601d",
   "metadata": {
    "scrolled": true
   },
   "outputs": [
    {
     "name": "stderr",
     "output_type": "stream",
     "text": [
      "C:\\Users\\Andreea STROIA\\AppData\\Local\\Temp\\ipykernel_12644\\1372599101.py:1: SettingWithCopyWarning: \n",
      "A value is trying to be set on a copy of a slice from a DataFrame.\n",
      "Try using .loc[row_indexer,col_indexer] = value instead\n",
      "\n",
      "See the caveats in the documentation: https://pandas.pydata.org/pandas-docs/stable/user_guide/indexing.html#returning-a-view-versus-a-copy\n",
      "  X['Cluster_name']=X['Cluster_name'].replace(['0','1', '2'], ['Chilly', 'Summery', 'Cold'])\n"
     ]
    }
   ],
   "source": [
    "X['Cluster_name']=X['Cluster_name'].replace(['0','1','2'], ['Chilly', 'Summery', 'Cold'])"
   ]
  },
  {
   "cell_type": "code",
   "execution_count": 84,
   "id": "bd476993",
   "metadata": {},
   "outputs": [
    {
     "data": {
      "text/html": [
       "<div>\n",
       "<style scoped>\n",
       "    .dataframe tbody tr th:only-of-type {\n",
       "        vertical-align: middle;\n",
       "    }\n",
       "\n",
       "    .dataframe tbody tr th {\n",
       "        vertical-align: top;\n",
       "    }\n",
       "\n",
       "    .dataframe thead th {\n",
       "        text-align: right;\n",
       "    }\n",
       "</style>\n",
       "<table border=\"1\" class=\"dataframe\">\n",
       "  <thead>\n",
       "    <tr style=\"text-align: right;\">\n",
       "      <th></th>\n",
       "      <th>month</th>\n",
       "      <th>TEMP</th>\n",
       "      <th>Cluster</th>\n",
       "      <th>Cluster_name</th>\n",
       "    </tr>\n",
       "  </thead>\n",
       "  <tbody>\n",
       "    <tr>\n",
       "      <th>0</th>\n",
       "      <td>10</td>\n",
       "      <td>18.2</td>\n",
       "      <td>0</td>\n",
       "      <td>0</td>\n",
       "    </tr>\n",
       "    <tr>\n",
       "      <th>1</th>\n",
       "      <td>10</td>\n",
       "      <td>18.5</td>\n",
       "      <td>0</td>\n",
       "      <td>0</td>\n",
       "    </tr>\n",
       "    <tr>\n",
       "      <th>2</th>\n",
       "      <td>10</td>\n",
       "      <td>18.8</td>\n",
       "      <td>0</td>\n",
       "      <td>0</td>\n",
       "    </tr>\n",
       "    <tr>\n",
       "      <th>3</th>\n",
       "      <td>10</td>\n",
       "      <td>19.1</td>\n",
       "      <td>0</td>\n",
       "      <td>0</td>\n",
       "    </tr>\n",
       "    <tr>\n",
       "      <th>4</th>\n",
       "      <td>10</td>\n",
       "      <td>19.4</td>\n",
       "      <td>0</td>\n",
       "      <td>0</td>\n",
       "    </tr>\n",
       "    <tr>\n",
       "      <th>...</th>\n",
       "      <td>...</td>\n",
       "      <td>...</td>\n",
       "      <td>...</td>\n",
       "      <td>...</td>\n",
       "    </tr>\n",
       "    <tr>\n",
       "      <th>74945</th>\n",
       "      <td>1</td>\n",
       "      <td>21.2</td>\n",
       "      <td>2</td>\n",
       "      <td>2</td>\n",
       "    </tr>\n",
       "    <tr>\n",
       "      <th>74946</th>\n",
       "      <td>1</td>\n",
       "      <td>21.6</td>\n",
       "      <td>2</td>\n",
       "      <td>2</td>\n",
       "    </tr>\n",
       "    <tr>\n",
       "      <th>74947</th>\n",
       "      <td>1</td>\n",
       "      <td>21.8</td>\n",
       "      <td>2</td>\n",
       "      <td>2</td>\n",
       "    </tr>\n",
       "    <tr>\n",
       "      <th>74948</th>\n",
       "      <td>1</td>\n",
       "      <td>21.6</td>\n",
       "      <td>2</td>\n",
       "      <td>2</td>\n",
       "    </tr>\n",
       "    <tr>\n",
       "      <th>74949</th>\n",
       "      <td>1</td>\n",
       "      <td>21.5</td>\n",
       "      <td>2</td>\n",
       "      <td>2</td>\n",
       "    </tr>\n",
       "  </tbody>\n",
       "</table>\n",
       "<p>74950 rows × 4 columns</p>\n",
       "</div>"
      ],
      "text/plain": [
       "       month  TEMP  Cluster  Cluster_name\n",
       "0         10  18.2        0             0\n",
       "1         10  18.5        0             0\n",
       "2         10  18.8        0             0\n",
       "3         10  19.1        0             0\n",
       "4         10  19.4        0             0\n",
       "...      ...   ...      ...           ...\n",
       "74945      1  21.2        2             2\n",
       "74946      1  21.6        2             2\n",
       "74947      1  21.8        2             2\n",
       "74948      1  21.6        2             2\n",
       "74949      1  21.5        2             2\n",
       "\n",
       "[74950 rows x 4 columns]"
      ]
     },
     "execution_count": 84,
     "metadata": {},
     "output_type": "execute_result"
    }
   ],
   "source": [
    "X"
   ]
  }
 ],
 "metadata": {
  "kernelspec": {
   "display_name": "Python 3 (ipykernel)",
   "language": "python",
   "name": "python3"
  },
  "language_info": {
   "codemirror_mode": {
    "name": "ipython",
    "version": 3
   },
   "file_extension": ".py",
   "mimetype": "text/x-python",
   "name": "python",
   "nbconvert_exporter": "python",
   "pygments_lexer": "ipython3",
   "version": "3.9.12"
  }
 },
 "nbformat": 4,
 "nbformat_minor": 5
}
